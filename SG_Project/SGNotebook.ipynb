{
 "cells": [
  {
   "cell_type": "markdown",
   "id": "037a81af",
   "metadata": {},
   "source": [
    "In this notebook, I am going to investigate which component of golf is the most important in golf? Off the tee, approach play, short game or putting."
   ]
  },
  {
   "cell_type": "code",
   "execution_count": 66,
   "id": "35328932",
   "metadata": {},
   "outputs": [],
   "source": [
    "#Load in libraries\n",
    "import pandas as pd\n",
    "import matplotlib.pyplot as plt\n",
    "from functools import reduce\n",
    "import plotly.graph_objects as go\n",
    "import plotly.express as px"
   ]
  },
  {
   "cell_type": "markdown",
   "id": "60059568",
   "metadata": {},
   "source": [
    "Lets merge the data into one data frame"
   ]
  },
  {
   "cell_type": "code",
   "execution_count": 2,
   "id": "8d079677",
   "metadata": {},
   "outputs": [],
   "source": [
    "#Load in data frames from Excel files\n",
    "money_df = pd.read_csv('./moneylist2023.csv')\n",
    "SG_OTT_df = pd.read_csv('./SG_OTT.csv')\n",
    "SG_APP_df = pd.read_csv('./SG_APP.csv')\n",
    "SG_ATG_df = pd.read_csv('./SG_ATG.csv')\n",
    "SG_PUTT_df = pd.read_csv('./SG_PUTT.csv')\n"
   ]
  },
  {
   "cell_type": "code",
   "execution_count": 3,
   "id": "9c5a8a30",
   "metadata": {},
   "outputs": [],
   "source": [
    "#Lets create data set Player_id, Player, AVG for each element, money\n"
   ]
  },
  {
   "cell_type": "code",
   "execution_count": 4,
   "id": "b80c8e46",
   "metadata": {},
   "outputs": [
    {
     "data": {
      "text/html": [
       "<div>\n",
       "<style scoped>\n",
       "    .dataframe tbody tr th:only-of-type {\n",
       "        vertical-align: middle;\n",
       "    }\n",
       "\n",
       "    .dataframe tbody tr th {\n",
       "        vertical-align: top;\n",
       "    }\n",
       "\n",
       "    .dataframe thead th {\n",
       "        text-align: right;\n",
       "    }\n",
       "</style>\n",
       "<table border=\"1\" class=\"dataframe\">\n",
       "  <thead>\n",
       "    <tr style=\"text-align: right;\">\n",
       "      <th></th>\n",
       "      <th>RANK</th>\n",
       "      <th>MOVEMENT</th>\n",
       "      <th>PLAYER_ID</th>\n",
       "      <th>PLAYER</th>\n",
       "      <th>MONEY</th>\n",
       "      <th>YTD VICTORIES</th>\n",
       "    </tr>\n",
       "  </thead>\n",
       "  <tbody>\n",
       "    <tr>\n",
       "      <th>0</th>\n",
       "      <td>1</td>\n",
       "      <td>0</td>\n",
       "      <td>46046</td>\n",
       "      <td>Scottie Scheffler</td>\n",
       "      <td>$21014342</td>\n",
       "      <td>2.0</td>\n",
       "    </tr>\n",
       "    <tr>\n",
       "      <th>1</th>\n",
       "      <td>2</td>\n",
       "      <td>0</td>\n",
       "      <td>46970</td>\n",
       "      <td>Jon Rahm</td>\n",
       "      <td>$16522608</td>\n",
       "      <td>4.0</td>\n",
       "    </tr>\n",
       "    <tr>\n",
       "      <th>2</th>\n",
       "      <td>3</td>\n",
       "      <td>0</td>\n",
       "      <td>46717</td>\n",
       "      <td>Viktor Hovland</td>\n",
       "      <td>$14112235</td>\n",
       "      <td>3.0</td>\n",
       "    </tr>\n",
       "    <tr>\n",
       "      <th>3</th>\n",
       "      <td>4</td>\n",
       "      <td>0</td>\n",
       "      <td>28237</td>\n",
       "      <td>Rory McIlroy</td>\n",
       "      <td>$13921008</td>\n",
       "      <td>2.0</td>\n",
       "    </tr>\n",
       "    <tr>\n",
       "      <th>4</th>\n",
       "      <td>5</td>\n",
       "      <td>0</td>\n",
       "      <td>39977</td>\n",
       "      <td>Max Homa</td>\n",
       "      <td>$10761517</td>\n",
       "      <td>2.0</td>\n",
       "    </tr>\n",
       "    <tr>\n",
       "      <th>...</th>\n",
       "      <td>...</td>\n",
       "      <td>...</td>\n",
       "      <td>...</td>\n",
       "      <td>...</td>\n",
       "      <td>...</td>\n",
       "      <td>...</td>\n",
       "    </tr>\n",
       "    <tr>\n",
       "      <th>236</th>\n",
       "      <td>237</td>\n",
       "      <td>0</td>\n",
       "      <td>26679</td>\n",
       "      <td>Kevin Stadler</td>\n",
       "      <td>$21318</td>\n",
       "      <td>NaN</td>\n",
       "    </tr>\n",
       "    <tr>\n",
       "      <th>237</th>\n",
       "      <td>238</td>\n",
       "      <td>0</td>\n",
       "      <td>24490</td>\n",
       "      <td>George McNeill</td>\n",
       "      <td>$16834</td>\n",
       "      <td>NaN</td>\n",
       "    </tr>\n",
       "    <tr>\n",
       "      <th>238</th>\n",
       "      <td>239</td>\n",
       "      <td>0</td>\n",
       "      <td>21407</td>\n",
       "      <td>Arjun Atwal</td>\n",
       "      <td>$16367</td>\n",
       "      <td>NaN</td>\n",
       "    </tr>\n",
       "    <tr>\n",
       "      <th>239</th>\n",
       "      <td>240</td>\n",
       "      <td>0</td>\n",
       "      <td>23623</td>\n",
       "      <td>Bo Van Pelt</td>\n",
       "      <td>$11172</td>\n",
       "      <td>NaN</td>\n",
       "    </tr>\n",
       "    <tr>\n",
       "      <th>240</th>\n",
       "      <td>241</td>\n",
       "      <td>0</td>\n",
       "      <td>26420</td>\n",
       "      <td>Richard Johnson</td>\n",
       "      <td>$8208</td>\n",
       "      <td>NaN</td>\n",
       "    </tr>\n",
       "  </tbody>\n",
       "</table>\n",
       "<p>241 rows × 6 columns</p>\n",
       "</div>"
      ],
      "text/plain": [
       "     RANK  MOVEMENT  PLAYER_ID             PLAYER      MONEY  YTD VICTORIES\n",
       "0       1         0      46046  Scottie Scheffler  $21014342            2.0\n",
       "1       2         0      46970           Jon Rahm  $16522608            4.0\n",
       "2       3         0      46717     Viktor Hovland  $14112235            3.0\n",
       "3       4         0      28237       Rory McIlroy  $13921008            2.0\n",
       "4       5         0      39977           Max Homa  $10761517            2.0\n",
       "..    ...       ...        ...                ...        ...            ...\n",
       "236   237         0      26679      Kevin Stadler     $21318            NaN\n",
       "237   238         0      24490     George McNeill     $16834            NaN\n",
       "238   239         0      21407        Arjun Atwal     $16367            NaN\n",
       "239   240         0      23623        Bo Van Pelt     $11172            NaN\n",
       "240   241         0      26420    Richard Johnson      $8208            NaN\n",
       "\n",
       "[241 rows x 6 columns]"
      ]
     },
     "execution_count": 4,
     "metadata": {},
     "output_type": "execute_result"
    }
   ],
   "source": [
    "money_df"
   ]
  },
  {
   "cell_type": "code",
   "execution_count": 5,
   "id": "f7b5264d",
   "metadata": {},
   "outputs": [],
   "source": [
    "#Store dfs as a list for looping\n",
    "dfs = [SG_OTT_df,SG_ATG_df,SG_APP_df,SG_PUTT_df]\n",
    "columns_to_remove = ['RANK','MOVEMENT','MEASURED ROUNDS']\n",
    "dfs_cleaned = [df.drop(columns=columns_to_remove, axis=1) for df in dfs]\n",
    "SG_OTT_df,SG_ATG_df,SG_APP_df,SG_PUTT_df = dfs_cleaned\n",
    "\n"
   ]
  },
  {
   "cell_type": "code",
   "execution_count": 6,
   "id": "c5ea48d8",
   "metadata": {},
   "outputs": [
    {
     "data": {
      "text/html": [
       "<div>\n",
       "<style scoped>\n",
       "    .dataframe tbody tr th:only-of-type {\n",
       "        vertical-align: middle;\n",
       "    }\n",
       "\n",
       "    .dataframe tbody tr th {\n",
       "        vertical-align: top;\n",
       "    }\n",
       "\n",
       "    .dataframe thead th {\n",
       "        text-align: right;\n",
       "    }\n",
       "</style>\n",
       "<table border=\"1\" class=\"dataframe\">\n",
       "  <thead>\n",
       "    <tr style=\"text-align: right;\">\n",
       "      <th></th>\n",
       "      <th>PLAYER_ID</th>\n",
       "      <th>PLAYER</th>\n",
       "      <th>AVG</th>\n",
       "      <th>TOTAL SG:ARG</th>\n",
       "    </tr>\n",
       "  </thead>\n",
       "  <tbody>\n",
       "    <tr>\n",
       "      <th>0</th>\n",
       "      <td>24925</td>\n",
       "      <td>Jonathan Byrd</td>\n",
       "      <td>0.527</td>\n",
       "      <td>19.493</td>\n",
       "    </tr>\n",
       "    <tr>\n",
       "      <th>1</th>\n",
       "      <td>22371</td>\n",
       "      <td>Aaron Baddeley</td>\n",
       "      <td>0.479</td>\n",
       "      <td>28.249</td>\n",
       "    </tr>\n",
       "    <tr>\n",
       "      <th>2</th>\n",
       "      <td>30927</td>\n",
       "      <td>Brendon Todd</td>\n",
       "      <td>0.454</td>\n",
       "      <td>39.066</td>\n",
       "    </tr>\n",
       "    <tr>\n",
       "      <th>3</th>\n",
       "      <td>33448</td>\n",
       "      <td>Justin Thomas</td>\n",
       "      <td>0.436</td>\n",
       "      <td>29.239</td>\n",
       "    </tr>\n",
       "    <tr>\n",
       "      <th>4</th>\n",
       "      <td>46046</td>\n",
       "      <td>Scottie Scheffler</td>\n",
       "      <td>0.399</td>\n",
       "      <td>29.555</td>\n",
       "    </tr>\n",
       "    <tr>\n",
       "      <th>...</th>\n",
       "      <td>...</td>\n",
       "      <td>...</td>\n",
       "      <td>...</td>\n",
       "      <td>...</td>\n",
       "    </tr>\n",
       "    <tr>\n",
       "      <th>188</th>\n",
       "      <td>49453</td>\n",
       "      <td>Trevor Cone</td>\n",
       "      <td>-0.503</td>\n",
       "      <td>-31.700</td>\n",
       "    </tr>\n",
       "    <tr>\n",
       "      <th>189</th>\n",
       "      <td>32662</td>\n",
       "      <td>Michael Gligic</td>\n",
       "      <td>-0.513</td>\n",
       "      <td>-26.676</td>\n",
       "    </tr>\n",
       "    <tr>\n",
       "      <th>190</th>\n",
       "      <td>55708</td>\n",
       "      <td>Hayden Buckley</td>\n",
       "      <td>-0.535</td>\n",
       "      <td>-34.769</td>\n",
       "    </tr>\n",
       "    <tr>\n",
       "      <th>191</th>\n",
       "      <td>52372</td>\n",
       "      <td>Cameron Champ</td>\n",
       "      <td>-0.570</td>\n",
       "      <td>-33.643</td>\n",
       "    </tr>\n",
       "    <tr>\n",
       "      <th>192</th>\n",
       "      <td>51491</td>\n",
       "      <td>Brandon Matthews</td>\n",
       "      <td>-0.893</td>\n",
       "      <td>-37.514</td>\n",
       "    </tr>\n",
       "  </tbody>\n",
       "</table>\n",
       "<p>193 rows × 4 columns</p>\n",
       "</div>"
      ],
      "text/plain": [
       "     PLAYER_ID             PLAYER    AVG  TOTAL SG:ARG\n",
       "0        24925      Jonathan Byrd  0.527        19.493\n",
       "1        22371     Aaron Baddeley  0.479        28.249\n",
       "2        30927       Brendon Todd  0.454        39.066\n",
       "3        33448      Justin Thomas  0.436        29.239\n",
       "4        46046  Scottie Scheffler  0.399        29.555\n",
       "..         ...                ...    ...           ...\n",
       "188      49453        Trevor Cone -0.503       -31.700\n",
       "189      32662     Michael Gligic -0.513       -26.676\n",
       "190      55708     Hayden Buckley -0.535       -34.769\n",
       "191      52372      Cameron Champ -0.570       -33.643\n",
       "192      51491   Brandon Matthews -0.893       -37.514\n",
       "\n",
       "[193 rows x 4 columns]"
      ]
     },
     "execution_count": 6,
     "metadata": {},
     "output_type": "execute_result"
    }
   ],
   "source": [
    "SG_ATG_df"
   ]
  },
  {
   "cell_type": "code",
   "execution_count": 9,
   "id": "90e113f6",
   "metadata": {},
   "outputs": [],
   "source": [
    "SG_OTT_df.rename(columns={'AVG': 'OTT'}, inplace=True)\n",
    "SG_APP_df.rename(columns={'AVG': 'APP'}, inplace=True)\n",
    "SG_ATG_df.rename(columns={'AVG': 'ARG'}, inplace=True)\n",
    "SG_PUTT_df.rename(columns={'AVG': 'PUTT'}, inplace=True)\n",
    "\n",
    "SG_OTT_df = SG_OTT_df.drop(columns = [\"TOTAL SG:OTT\"])\n",
    "SG_APP_df = SG_APP_df.drop(columns = [\"TOTAL SG:APP\"])\n",
    "SG_ATG_df = SG_ATG_df.drop(columns = [\"TOTAL SG:ARG\"])\n",
    "SG_PUTT_df = SG_PUTT_df.drop(columns = [\"TOTAL SG:PUTTING\"])\n",
    "\n"
   ]
  },
  {
   "cell_type": "code",
   "execution_count": 11,
   "id": "5c94f275",
   "metadata": {},
   "outputs": [
    {
     "data": {
      "text/html": [
       "<div>\n",
       "<style scoped>\n",
       "    .dataframe tbody tr th:only-of-type {\n",
       "        vertical-align: middle;\n",
       "    }\n",
       "\n",
       "    .dataframe tbody tr th {\n",
       "        vertical-align: top;\n",
       "    }\n",
       "\n",
       "    .dataframe thead th {\n",
       "        text-align: right;\n",
       "    }\n",
       "</style>\n",
       "<table border=\"1\" class=\"dataframe\">\n",
       "  <thead>\n",
       "    <tr style=\"text-align: right;\">\n",
       "      <th></th>\n",
       "      <th>RANK</th>\n",
       "      <th>MOVEMENT</th>\n",
       "      <th>PLAYER_ID</th>\n",
       "      <th>PLAYER</th>\n",
       "      <th>MONEY</th>\n",
       "      <th>YTD VICTORIES</th>\n",
       "    </tr>\n",
       "  </thead>\n",
       "  <tbody>\n",
       "    <tr>\n",
       "      <th>0</th>\n",
       "      <td>1</td>\n",
       "      <td>0</td>\n",
       "      <td>46046</td>\n",
       "      <td>Scottie Scheffler</td>\n",
       "      <td>$21014342</td>\n",
       "      <td>2.0</td>\n",
       "    </tr>\n",
       "    <tr>\n",
       "      <th>1</th>\n",
       "      <td>2</td>\n",
       "      <td>0</td>\n",
       "      <td>46970</td>\n",
       "      <td>Jon Rahm</td>\n",
       "      <td>$16522608</td>\n",
       "      <td>4.0</td>\n",
       "    </tr>\n",
       "    <tr>\n",
       "      <th>2</th>\n",
       "      <td>3</td>\n",
       "      <td>0</td>\n",
       "      <td>46717</td>\n",
       "      <td>Viktor Hovland</td>\n",
       "      <td>$14112235</td>\n",
       "      <td>3.0</td>\n",
       "    </tr>\n",
       "    <tr>\n",
       "      <th>3</th>\n",
       "      <td>4</td>\n",
       "      <td>0</td>\n",
       "      <td>28237</td>\n",
       "      <td>Rory McIlroy</td>\n",
       "      <td>$13921008</td>\n",
       "      <td>2.0</td>\n",
       "    </tr>\n",
       "    <tr>\n",
       "      <th>4</th>\n",
       "      <td>5</td>\n",
       "      <td>0</td>\n",
       "      <td>39977</td>\n",
       "      <td>Max Homa</td>\n",
       "      <td>$10761517</td>\n",
       "      <td>2.0</td>\n",
       "    </tr>\n",
       "    <tr>\n",
       "      <th>...</th>\n",
       "      <td>...</td>\n",
       "      <td>...</td>\n",
       "      <td>...</td>\n",
       "      <td>...</td>\n",
       "      <td>...</td>\n",
       "      <td>...</td>\n",
       "    </tr>\n",
       "    <tr>\n",
       "      <th>236</th>\n",
       "      <td>237</td>\n",
       "      <td>0</td>\n",
       "      <td>26679</td>\n",
       "      <td>Kevin Stadler</td>\n",
       "      <td>$21318</td>\n",
       "      <td>NaN</td>\n",
       "    </tr>\n",
       "    <tr>\n",
       "      <th>237</th>\n",
       "      <td>238</td>\n",
       "      <td>0</td>\n",
       "      <td>24490</td>\n",
       "      <td>George McNeill</td>\n",
       "      <td>$16834</td>\n",
       "      <td>NaN</td>\n",
       "    </tr>\n",
       "    <tr>\n",
       "      <th>238</th>\n",
       "      <td>239</td>\n",
       "      <td>0</td>\n",
       "      <td>21407</td>\n",
       "      <td>Arjun Atwal</td>\n",
       "      <td>$16367</td>\n",
       "      <td>NaN</td>\n",
       "    </tr>\n",
       "    <tr>\n",
       "      <th>239</th>\n",
       "      <td>240</td>\n",
       "      <td>0</td>\n",
       "      <td>23623</td>\n",
       "      <td>Bo Van Pelt</td>\n",
       "      <td>$11172</td>\n",
       "      <td>NaN</td>\n",
       "    </tr>\n",
       "    <tr>\n",
       "      <th>240</th>\n",
       "      <td>241</td>\n",
       "      <td>0</td>\n",
       "      <td>26420</td>\n",
       "      <td>Richard Johnson</td>\n",
       "      <td>$8208</td>\n",
       "      <td>NaN</td>\n",
       "    </tr>\n",
       "  </tbody>\n",
       "</table>\n",
       "<p>241 rows × 6 columns</p>\n",
       "</div>"
      ],
      "text/plain": [
       "     RANK  MOVEMENT  PLAYER_ID             PLAYER      MONEY  YTD VICTORIES\n",
       "0       1         0      46046  Scottie Scheffler  $21014342            2.0\n",
       "1       2         0      46970           Jon Rahm  $16522608            4.0\n",
       "2       3         0      46717     Viktor Hovland  $14112235            3.0\n",
       "3       4         0      28237       Rory McIlroy  $13921008            2.0\n",
       "4       5         0      39977           Max Homa  $10761517            2.0\n",
       "..    ...       ...        ...                ...        ...            ...\n",
       "236   237         0      26679      Kevin Stadler     $21318            NaN\n",
       "237   238         0      24490     George McNeill     $16834            NaN\n",
       "238   239         0      21407        Arjun Atwal     $16367            NaN\n",
       "239   240         0      23623        Bo Van Pelt     $11172            NaN\n",
       "240   241         0      26420    Richard Johnson      $8208            NaN\n",
       "\n",
       "[241 rows x 6 columns]"
      ]
     },
     "execution_count": 11,
     "metadata": {},
     "output_type": "execute_result"
    }
   ],
   "source": [
    "money_df"
   ]
  },
  {
   "cell_type": "code",
   "execution_count": 14,
   "id": "fe57667e",
   "metadata": {},
   "outputs": [
    {
     "data": {
      "text/html": [
       "<div>\n",
       "<style scoped>\n",
       "    .dataframe tbody tr th:only-of-type {\n",
       "        vertical-align: middle;\n",
       "    }\n",
       "\n",
       "    .dataframe tbody tr th {\n",
       "        vertical-align: top;\n",
       "    }\n",
       "\n",
       "    .dataframe thead th {\n",
       "        text-align: right;\n",
       "    }\n",
       "</style>\n",
       "<table border=\"1\" class=\"dataframe\">\n",
       "  <thead>\n",
       "    <tr style=\"text-align: right;\">\n",
       "      <th></th>\n",
       "      <th>PLAYER_ID</th>\n",
       "      <th>PLAYER</th>\n",
       "      <th>MONEY</th>\n",
       "    </tr>\n",
       "  </thead>\n",
       "  <tbody>\n",
       "    <tr>\n",
       "      <th>0</th>\n",
       "      <td>46046</td>\n",
       "      <td>Scottie Scheffler</td>\n",
       "      <td>$21014342</td>\n",
       "    </tr>\n",
       "    <tr>\n",
       "      <th>1</th>\n",
       "      <td>46970</td>\n",
       "      <td>Jon Rahm</td>\n",
       "      <td>$16522608</td>\n",
       "    </tr>\n",
       "    <tr>\n",
       "      <th>2</th>\n",
       "      <td>46717</td>\n",
       "      <td>Viktor Hovland</td>\n",
       "      <td>$14112235</td>\n",
       "    </tr>\n",
       "    <tr>\n",
       "      <th>3</th>\n",
       "      <td>28237</td>\n",
       "      <td>Rory McIlroy</td>\n",
       "      <td>$13921008</td>\n",
       "    </tr>\n",
       "    <tr>\n",
       "      <th>4</th>\n",
       "      <td>39977</td>\n",
       "      <td>Max Homa</td>\n",
       "      <td>$10761517</td>\n",
       "    </tr>\n",
       "    <tr>\n",
       "      <th>...</th>\n",
       "      <td>...</td>\n",
       "      <td>...</td>\n",
       "      <td>...</td>\n",
       "    </tr>\n",
       "    <tr>\n",
       "      <th>236</th>\n",
       "      <td>26679</td>\n",
       "      <td>Kevin Stadler</td>\n",
       "      <td>$21318</td>\n",
       "    </tr>\n",
       "    <tr>\n",
       "      <th>237</th>\n",
       "      <td>24490</td>\n",
       "      <td>George McNeill</td>\n",
       "      <td>$16834</td>\n",
       "    </tr>\n",
       "    <tr>\n",
       "      <th>238</th>\n",
       "      <td>21407</td>\n",
       "      <td>Arjun Atwal</td>\n",
       "      <td>$16367</td>\n",
       "    </tr>\n",
       "    <tr>\n",
       "      <th>239</th>\n",
       "      <td>23623</td>\n",
       "      <td>Bo Van Pelt</td>\n",
       "      <td>$11172</td>\n",
       "    </tr>\n",
       "    <tr>\n",
       "      <th>240</th>\n",
       "      <td>26420</td>\n",
       "      <td>Richard Johnson</td>\n",
       "      <td>$8208</td>\n",
       "    </tr>\n",
       "  </tbody>\n",
       "</table>\n",
       "<p>241 rows × 3 columns</p>\n",
       "</div>"
      ],
      "text/plain": [
       "     PLAYER_ID             PLAYER      MONEY\n",
       "0        46046  Scottie Scheffler  $21014342\n",
       "1        46970           Jon Rahm  $16522608\n",
       "2        46717     Viktor Hovland  $14112235\n",
       "3        28237       Rory McIlroy  $13921008\n",
       "4        39977           Max Homa  $10761517\n",
       "..         ...                ...        ...\n",
       "236      26679      Kevin Stadler     $21318\n",
       "237      24490     George McNeill     $16834\n",
       "238      21407        Arjun Atwal     $16367\n",
       "239      23623        Bo Van Pelt     $11172\n",
       "240      26420    Richard Johnson      $8208\n",
       "\n",
       "[241 rows x 3 columns]"
      ]
     },
     "execution_count": 14,
     "metadata": {},
     "output_type": "execute_result"
    }
   ],
   "source": [
    "columns_to_remove = [\"RANK\", \"MOVEMENT\",\"YTD VICTORIES\"]\n",
    "money_df = money_df.drop(columns=columns_to_remove, axis=1, errors='ignore')\n",
    "money_df"
   ]
  },
  {
   "cell_type": "code",
   "execution_count": 25,
   "id": "668eeb8d",
   "metadata": {},
   "outputs": [
    {
     "data": {
      "text/html": [
       "<div>\n",
       "<style scoped>\n",
       "    .dataframe tbody tr th:only-of-type {\n",
       "        vertical-align: middle;\n",
       "    }\n",
       "\n",
       "    .dataframe tbody tr th {\n",
       "        vertical-align: top;\n",
       "    }\n",
       "\n",
       "    .dataframe thead th {\n",
       "        text-align: right;\n",
       "    }\n",
       "</style>\n",
       "<table border=\"1\" class=\"dataframe\">\n",
       "  <thead>\n",
       "    <tr style=\"text-align: right;\">\n",
       "      <th></th>\n",
       "      <th>PLAYER_ID</th>\n",
       "      <th>PLAYER</th>\n",
       "      <th>OTT</th>\n",
       "      <th>ARG</th>\n",
       "      <th>APP</th>\n",
       "      <th>PUTT</th>\n",
       "      <th>MONEY</th>\n",
       "    </tr>\n",
       "  </thead>\n",
       "  <tbody>\n",
       "    <tr>\n",
       "      <th>0</th>\n",
       "      <td>46046</td>\n",
       "      <td>Scottie Scheffler</td>\n",
       "      <td>1.021</td>\n",
       "      <td>0.399</td>\n",
       "      <td>1.194</td>\n",
       "      <td>-0.301</td>\n",
       "      <td>$21014342</td>\n",
       "    </tr>\n",
       "    <tr>\n",
       "      <th>1</th>\n",
       "      <td>52955</td>\n",
       "      <td>Ludvig Åberg</td>\n",
       "      <td>0.982</td>\n",
       "      <td>0.209</td>\n",
       "      <td>-0.006</td>\n",
       "      <td>0.322</td>\n",
       "      <td>$3144994</td>\n",
       "    </tr>\n",
       "    <tr>\n",
       "      <th>2</th>\n",
       "      <td>28237</td>\n",
       "      <td>Rory McIlroy</td>\n",
       "      <td>0.907</td>\n",
       "      <td>0.309</td>\n",
       "      <td>0.721</td>\n",
       "      <td>0.164</td>\n",
       "      <td>$13921008</td>\n",
       "    </tr>\n",
       "    <tr>\n",
       "      <th>3</th>\n",
       "      <td>35450</td>\n",
       "      <td>Patrick Cantlay</td>\n",
       "      <td>0.852</td>\n",
       "      <td>0.147</td>\n",
       "      <td>0.564</td>\n",
       "      <td>0.305</td>\n",
       "      <td>$10372998</td>\n",
       "    </tr>\n",
       "    <tr>\n",
       "      <th>4</th>\n",
       "      <td>51414</td>\n",
       "      <td>Brent Grant</td>\n",
       "      <td>0.806</td>\n",
       "      <td>-0.500</td>\n",
       "      <td>-0.674</td>\n",
       "      <td>-1.081</td>\n",
       "      <td>$466212</td>\n",
       "    </tr>\n",
       "    <tr>\n",
       "      <th>...</th>\n",
       "      <td>...</td>\n",
       "      <td>...</td>\n",
       "      <td>...</td>\n",
       "      <td>...</td>\n",
       "      <td>...</td>\n",
       "      <td>...</td>\n",
       "      <td>...</td>\n",
       "    </tr>\n",
       "    <tr>\n",
       "      <th>185</th>\n",
       "      <td>27974</td>\n",
       "      <td>Sung Kang</td>\n",
       "      <td>-0.610</td>\n",
       "      <td>-0.183</td>\n",
       "      <td>0.013</td>\n",
       "      <td>-0.097</td>\n",
       "      <td>$292639</td>\n",
       "    </tr>\n",
       "    <tr>\n",
       "      <th>186</th>\n",
       "      <td>29289</td>\n",
       "      <td>S.Y. Noh</td>\n",
       "      <td>-0.624</td>\n",
       "      <td>-0.010</td>\n",
       "      <td>-0.335</td>\n",
       "      <td>0.224</td>\n",
       "      <td>$468487</td>\n",
       "    </tr>\n",
       "    <tr>\n",
       "      <th>187</th>\n",
       "      <td>29970</td>\n",
       "      <td>Dylan Frittelli</td>\n",
       "      <td>-0.695</td>\n",
       "      <td>0.016</td>\n",
       "      <td>-0.620</td>\n",
       "      <td>0.041</td>\n",
       "      <td>$683295</td>\n",
       "    </tr>\n",
       "    <tr>\n",
       "      <th>188</th>\n",
       "      <td>31560</td>\n",
       "      <td>Brian Stuard</td>\n",
       "      <td>-1.077</td>\n",
       "      <td>0.109</td>\n",
       "      <td>-0.352</td>\n",
       "      <td>0.236</td>\n",
       "      <td>$296420</td>\n",
       "    </tr>\n",
       "    <tr>\n",
       "      <th>189</th>\n",
       "      <td>27095</td>\n",
       "      <td>Nick Watney</td>\n",
       "      <td>-1.343</td>\n",
       "      <td>-0.181</td>\n",
       "      <td>-0.191</td>\n",
       "      <td>-0.193</td>\n",
       "      <td>$263725</td>\n",
       "    </tr>\n",
       "  </tbody>\n",
       "</table>\n",
       "<p>190 rows × 7 columns</p>\n",
       "</div>"
      ],
      "text/plain": [
       "     PLAYER_ID             PLAYER    OTT    ARG    APP   PUTT      MONEY\n",
       "0        46046  Scottie Scheffler  1.021  0.399  1.194 -0.301  $21014342\n",
       "1        52955       Ludvig Åberg  0.982  0.209 -0.006  0.322   $3144994\n",
       "2        28237       Rory McIlroy  0.907  0.309  0.721  0.164  $13921008\n",
       "3        35450    Patrick Cantlay  0.852  0.147  0.564  0.305  $10372998\n",
       "4        51414        Brent Grant  0.806 -0.500 -0.674 -1.081    $466212\n",
       "..         ...                ...    ...    ...    ...    ...        ...\n",
       "185      27974          Sung Kang -0.610 -0.183  0.013 -0.097    $292639\n",
       "186      29289           S.Y. Noh -0.624 -0.010 -0.335  0.224    $468487\n",
       "187      29970    Dylan Frittelli -0.695  0.016 -0.620  0.041    $683295\n",
       "188      31560       Brian Stuard -1.077  0.109 -0.352  0.236    $296420\n",
       "189      27095        Nick Watney -1.343 -0.181 -0.191 -0.193    $263725\n",
       "\n",
       "[190 rows x 7 columns]"
      ]
     },
     "execution_count": 25,
     "metadata": {},
     "output_type": "execute_result"
    }
   ],
   "source": [
    "#Merge the datasets\n",
    "sg_df = reduce(lambda left, right: pd.merge(left, right.drop(columns='PLAYER', errors='ignore'), \n",
    "                                                on='PLAYER_ID', how='inner', suffixes=('', '_drop')), dfs_to_merge)\n",
    "sg_df"
   ]
  },
  {
   "cell_type": "code",
   "execution_count": 31,
   "id": "d176adee",
   "metadata": {},
   "outputs": [
    {
     "name": "stdout",
     "output_type": "stream",
     "text": [
      "PLAYER_ID      int64\n",
      "PLAYER        object\n",
      "OTT          float64\n",
      "ARG          float64\n",
      "APP          float64\n",
      "PUTT         float64\n",
      "MONEY         object\n",
      "dtype: object\n"
     ]
    }
   ],
   "source": [
    "print(sg_df.dtypes)\n",
    "#We see that money is of type object can't be quantified\n",
    "\n",
    "#Remove the $ sign\n",
    "sg_df['MONEY'] = sg_df['MONEY'].str.replace('$', '', regex=False)\n",
    "\n",
    "#Convet to float\n",
    "sg_df['MONEY'] = pd.to_numeric(sg_df['MONEY'], errors='coerce')\n"
   ]
  },
  {
   "cell_type": "code",
   "execution_count": 32,
   "id": "9f9690ba",
   "metadata": {},
   "outputs": [
    {
     "name": "stdout",
     "output_type": "stream",
     "text": [
      "PLAYER_ID      int64\n",
      "PLAYER        object\n",
      "OTT          float64\n",
      "ARG          float64\n",
      "APP          float64\n",
      "PUTT         float64\n",
      "MONEY          int64\n",
      "dtype: object\n"
     ]
    }
   ],
   "source": [
    "print(sg_df.dtypes)"
   ]
  },
  {
   "cell_type": "code",
   "execution_count": 35,
   "id": "8a5490a8",
   "metadata": {},
   "outputs": [
    {
     "data": {
      "text/html": [
       "<div>\n",
       "<style scoped>\n",
       "    .dataframe tbody tr th:only-of-type {\n",
       "        vertical-align: middle;\n",
       "    }\n",
       "\n",
       "    .dataframe tbody tr th {\n",
       "        vertical-align: top;\n",
       "    }\n",
       "\n",
       "    .dataframe thead th {\n",
       "        text-align: right;\n",
       "    }\n",
       "</style>\n",
       "<table border=\"1\" class=\"dataframe\">\n",
       "  <thead>\n",
       "    <tr style=\"text-align: right;\">\n",
       "      <th></th>\n",
       "      <th>PLAYER_ID</th>\n",
       "      <th>PLAYER</th>\n",
       "      <th>OTT</th>\n",
       "      <th>ARG</th>\n",
       "      <th>APP</th>\n",
       "      <th>PUTT</th>\n",
       "      <th>MONEY</th>\n",
       "      <th>TOTAL</th>\n",
       "    </tr>\n",
       "  </thead>\n",
       "  <tbody>\n",
       "    <tr>\n",
       "      <th>0</th>\n",
       "      <td>46046</td>\n",
       "      <td>Scottie Scheffler</td>\n",
       "      <td>1.021</td>\n",
       "      <td>0.399</td>\n",
       "      <td>1.194</td>\n",
       "      <td>-0.301</td>\n",
       "      <td>21014342</td>\n",
       "      <td>2.313</td>\n",
       "    </tr>\n",
       "    <tr>\n",
       "      <th>1</th>\n",
       "      <td>52955</td>\n",
       "      <td>Ludvig Åberg</td>\n",
       "      <td>0.982</td>\n",
       "      <td>0.209</td>\n",
       "      <td>-0.006</td>\n",
       "      <td>0.322</td>\n",
       "      <td>3144994</td>\n",
       "      <td>1.507</td>\n",
       "    </tr>\n",
       "    <tr>\n",
       "      <th>2</th>\n",
       "      <td>28237</td>\n",
       "      <td>Rory McIlroy</td>\n",
       "      <td>0.907</td>\n",
       "      <td>0.309</td>\n",
       "      <td>0.721</td>\n",
       "      <td>0.164</td>\n",
       "      <td>13921008</td>\n",
       "      <td>2.101</td>\n",
       "    </tr>\n",
       "    <tr>\n",
       "      <th>3</th>\n",
       "      <td>35450</td>\n",
       "      <td>Patrick Cantlay</td>\n",
       "      <td>0.852</td>\n",
       "      <td>0.147</td>\n",
       "      <td>0.564</td>\n",
       "      <td>0.305</td>\n",
       "      <td>10372998</td>\n",
       "      <td>1.868</td>\n",
       "    </tr>\n",
       "    <tr>\n",
       "      <th>4</th>\n",
       "      <td>51414</td>\n",
       "      <td>Brent Grant</td>\n",
       "      <td>0.806</td>\n",
       "      <td>-0.500</td>\n",
       "      <td>-0.674</td>\n",
       "      <td>-1.081</td>\n",
       "      <td>466212</td>\n",
       "      <td>-1.449</td>\n",
       "    </tr>\n",
       "    <tr>\n",
       "      <th>...</th>\n",
       "      <td>...</td>\n",
       "      <td>...</td>\n",
       "      <td>...</td>\n",
       "      <td>...</td>\n",
       "      <td>...</td>\n",
       "      <td>...</td>\n",
       "      <td>...</td>\n",
       "      <td>...</td>\n",
       "    </tr>\n",
       "    <tr>\n",
       "      <th>185</th>\n",
       "      <td>27974</td>\n",
       "      <td>Sung Kang</td>\n",
       "      <td>-0.610</td>\n",
       "      <td>-0.183</td>\n",
       "      <td>0.013</td>\n",
       "      <td>-0.097</td>\n",
       "      <td>292639</td>\n",
       "      <td>-0.877</td>\n",
       "    </tr>\n",
       "    <tr>\n",
       "      <th>186</th>\n",
       "      <td>29289</td>\n",
       "      <td>S.Y. Noh</td>\n",
       "      <td>-0.624</td>\n",
       "      <td>-0.010</td>\n",
       "      <td>-0.335</td>\n",
       "      <td>0.224</td>\n",
       "      <td>468487</td>\n",
       "      <td>-0.745</td>\n",
       "    </tr>\n",
       "    <tr>\n",
       "      <th>187</th>\n",
       "      <td>29970</td>\n",
       "      <td>Dylan Frittelli</td>\n",
       "      <td>-0.695</td>\n",
       "      <td>0.016</td>\n",
       "      <td>-0.620</td>\n",
       "      <td>0.041</td>\n",
       "      <td>683295</td>\n",
       "      <td>-1.258</td>\n",
       "    </tr>\n",
       "    <tr>\n",
       "      <th>188</th>\n",
       "      <td>31560</td>\n",
       "      <td>Brian Stuard</td>\n",
       "      <td>-1.077</td>\n",
       "      <td>0.109</td>\n",
       "      <td>-0.352</td>\n",
       "      <td>0.236</td>\n",
       "      <td>296420</td>\n",
       "      <td>-1.084</td>\n",
       "    </tr>\n",
       "    <tr>\n",
       "      <th>189</th>\n",
       "      <td>27095</td>\n",
       "      <td>Nick Watney</td>\n",
       "      <td>-1.343</td>\n",
       "      <td>-0.181</td>\n",
       "      <td>-0.191</td>\n",
       "      <td>-0.193</td>\n",
       "      <td>263725</td>\n",
       "      <td>-1.908</td>\n",
       "    </tr>\n",
       "  </tbody>\n",
       "</table>\n",
       "<p>190 rows × 8 columns</p>\n",
       "</div>"
      ],
      "text/plain": [
       "     PLAYER_ID             PLAYER    OTT    ARG    APP   PUTT     MONEY  TOTAL\n",
       "0        46046  Scottie Scheffler  1.021  0.399  1.194 -0.301  21014342  2.313\n",
       "1        52955       Ludvig Åberg  0.982  0.209 -0.006  0.322   3144994  1.507\n",
       "2        28237       Rory McIlroy  0.907  0.309  0.721  0.164  13921008  2.101\n",
       "3        35450    Patrick Cantlay  0.852  0.147  0.564  0.305  10372998  1.868\n",
       "4        51414        Brent Grant  0.806 -0.500 -0.674 -1.081    466212 -1.449\n",
       "..         ...                ...    ...    ...    ...    ...       ...    ...\n",
       "185      27974          Sung Kang -0.610 -0.183  0.013 -0.097    292639 -0.877\n",
       "186      29289           S.Y. Noh -0.624 -0.010 -0.335  0.224    468487 -0.745\n",
       "187      29970    Dylan Frittelli -0.695  0.016 -0.620  0.041    683295 -1.258\n",
       "188      31560       Brian Stuard -1.077  0.109 -0.352  0.236    296420 -1.084\n",
       "189      27095        Nick Watney -1.343 -0.181 -0.191 -0.193    263725 -1.908\n",
       "\n",
       "[190 rows x 8 columns]"
      ]
     },
     "execution_count": 35,
     "metadata": {},
     "output_type": "execute_result"
    }
   ],
   "source": [
    "#Lets create a SG TOTAL Column as well\n",
    "\n",
    "sg_df[\"TOTAL\"] = sg_df[\"OTT\"] +sg_df[\"APP\"] + sg_df[\"ARG\"] + sg_df[\"PUTT\"] \n",
    "\n",
    "sg_df\n"
   ]
  },
  {
   "cell_type": "markdown",
   "id": "00e2f8d7",
   "metadata": {},
   "source": [
    "Firstly lets create a radar plot of the world number 1 and top of money list golfer for 2023 - Scottie Scheffler - compared to lowest on money list Michael Gligic"
   ]
  },
  {
   "cell_type": "code",
   "execution_count": 71,
   "id": "0fa291ba",
   "metadata": {},
   "outputs": [
    {
     "data": {
      "application/vnd.plotly.v1+json": {
       "config": {
        "plotlyServerURL": "https://plot.ly"
       },
       "data": [
        {
         "fill": "toself",
         "name": " Scottie Scheffler",
         "r": [
          1.021,
          1.194,
          0.399,
          -0.301,
          1.021
         ],
         "theta": [
          "Off the Tee",
          "Approach to Green",
          "Around the Green",
          "Putting",
          "Off the Tee"
         ],
         "type": "scatterpolar"
        },
        {
         "fill": "toself",
         "name": "Michael Gligic",
         "r": [
          -0.081,
          -0.534,
          -0.513,
          -0.281,
          -0.081
         ],
         "theta": [
          "Off the Tee",
          "Approach to Green",
          "Around the Green",
          "Putting",
          "Off the Tee"
         ],
         "type": "scatterpolar"
        }
       ],
       "layout": {
        "polar": {
         "radialaxis": {
          "range": [
           -1.5,
           1.5
          ],
          "visible": true
         }
        },
        "showlegend": true,
        "template": {
         "data": {
          "bar": [
           {
            "error_x": {
             "color": "#2a3f5f"
            },
            "error_y": {
             "color": "#2a3f5f"
            },
            "marker": {
             "line": {
              "color": "#E5ECF6",
              "width": 0.5
             },
             "pattern": {
              "fillmode": "overlay",
              "size": 10,
              "solidity": 0.2
             }
            },
            "type": "bar"
           }
          ],
          "barpolar": [
           {
            "marker": {
             "line": {
              "color": "#E5ECF6",
              "width": 0.5
             },
             "pattern": {
              "fillmode": "overlay",
              "size": 10,
              "solidity": 0.2
             }
            },
            "type": "barpolar"
           }
          ],
          "carpet": [
           {
            "aaxis": {
             "endlinecolor": "#2a3f5f",
             "gridcolor": "white",
             "linecolor": "white",
             "minorgridcolor": "white",
             "startlinecolor": "#2a3f5f"
            },
            "baxis": {
             "endlinecolor": "#2a3f5f",
             "gridcolor": "white",
             "linecolor": "white",
             "minorgridcolor": "white",
             "startlinecolor": "#2a3f5f"
            },
            "type": "carpet"
           }
          ],
          "choropleth": [
           {
            "colorbar": {
             "outlinewidth": 0,
             "ticks": ""
            },
            "type": "choropleth"
           }
          ],
          "contour": [
           {
            "colorbar": {
             "outlinewidth": 0,
             "ticks": ""
            },
            "colorscale": [
             [
              0,
              "#0d0887"
             ],
             [
              0.1111111111111111,
              "#46039f"
             ],
             [
              0.2222222222222222,
              "#7201a8"
             ],
             [
              0.3333333333333333,
              "#9c179e"
             ],
             [
              0.4444444444444444,
              "#bd3786"
             ],
             [
              0.5555555555555556,
              "#d8576b"
             ],
             [
              0.6666666666666666,
              "#ed7953"
             ],
             [
              0.7777777777777778,
              "#fb9f3a"
             ],
             [
              0.8888888888888888,
              "#fdca26"
             ],
             [
              1,
              "#f0f921"
             ]
            ],
            "type": "contour"
           }
          ],
          "contourcarpet": [
           {
            "colorbar": {
             "outlinewidth": 0,
             "ticks": ""
            },
            "type": "contourcarpet"
           }
          ],
          "heatmap": [
           {
            "colorbar": {
             "outlinewidth": 0,
             "ticks": ""
            },
            "colorscale": [
             [
              0,
              "#0d0887"
             ],
             [
              0.1111111111111111,
              "#46039f"
             ],
             [
              0.2222222222222222,
              "#7201a8"
             ],
             [
              0.3333333333333333,
              "#9c179e"
             ],
             [
              0.4444444444444444,
              "#bd3786"
             ],
             [
              0.5555555555555556,
              "#d8576b"
             ],
             [
              0.6666666666666666,
              "#ed7953"
             ],
             [
              0.7777777777777778,
              "#fb9f3a"
             ],
             [
              0.8888888888888888,
              "#fdca26"
             ],
             [
              1,
              "#f0f921"
             ]
            ],
            "type": "heatmap"
           }
          ],
          "heatmapgl": [
           {
            "colorbar": {
             "outlinewidth": 0,
             "ticks": ""
            },
            "colorscale": [
             [
              0,
              "#0d0887"
             ],
             [
              0.1111111111111111,
              "#46039f"
             ],
             [
              0.2222222222222222,
              "#7201a8"
             ],
             [
              0.3333333333333333,
              "#9c179e"
             ],
             [
              0.4444444444444444,
              "#bd3786"
             ],
             [
              0.5555555555555556,
              "#d8576b"
             ],
             [
              0.6666666666666666,
              "#ed7953"
             ],
             [
              0.7777777777777778,
              "#fb9f3a"
             ],
             [
              0.8888888888888888,
              "#fdca26"
             ],
             [
              1,
              "#f0f921"
             ]
            ],
            "type": "heatmapgl"
           }
          ],
          "histogram": [
           {
            "marker": {
             "pattern": {
              "fillmode": "overlay",
              "size": 10,
              "solidity": 0.2
             }
            },
            "type": "histogram"
           }
          ],
          "histogram2d": [
           {
            "colorbar": {
             "outlinewidth": 0,
             "ticks": ""
            },
            "colorscale": [
             [
              0,
              "#0d0887"
             ],
             [
              0.1111111111111111,
              "#46039f"
             ],
             [
              0.2222222222222222,
              "#7201a8"
             ],
             [
              0.3333333333333333,
              "#9c179e"
             ],
             [
              0.4444444444444444,
              "#bd3786"
             ],
             [
              0.5555555555555556,
              "#d8576b"
             ],
             [
              0.6666666666666666,
              "#ed7953"
             ],
             [
              0.7777777777777778,
              "#fb9f3a"
             ],
             [
              0.8888888888888888,
              "#fdca26"
             ],
             [
              1,
              "#f0f921"
             ]
            ],
            "type": "histogram2d"
           }
          ],
          "histogram2dcontour": [
           {
            "colorbar": {
             "outlinewidth": 0,
             "ticks": ""
            },
            "colorscale": [
             [
              0,
              "#0d0887"
             ],
             [
              0.1111111111111111,
              "#46039f"
             ],
             [
              0.2222222222222222,
              "#7201a8"
             ],
             [
              0.3333333333333333,
              "#9c179e"
             ],
             [
              0.4444444444444444,
              "#bd3786"
             ],
             [
              0.5555555555555556,
              "#d8576b"
             ],
             [
              0.6666666666666666,
              "#ed7953"
             ],
             [
              0.7777777777777778,
              "#fb9f3a"
             ],
             [
              0.8888888888888888,
              "#fdca26"
             ],
             [
              1,
              "#f0f921"
             ]
            ],
            "type": "histogram2dcontour"
           }
          ],
          "mesh3d": [
           {
            "colorbar": {
             "outlinewidth": 0,
             "ticks": ""
            },
            "type": "mesh3d"
           }
          ],
          "parcoords": [
           {
            "line": {
             "colorbar": {
              "outlinewidth": 0,
              "ticks": ""
             }
            },
            "type": "parcoords"
           }
          ],
          "pie": [
           {
            "automargin": true,
            "type": "pie"
           }
          ],
          "scatter": [
           {
            "fillpattern": {
             "fillmode": "overlay",
             "size": 10,
             "solidity": 0.2
            },
            "type": "scatter"
           }
          ],
          "scatter3d": [
           {
            "line": {
             "colorbar": {
              "outlinewidth": 0,
              "ticks": ""
             }
            },
            "marker": {
             "colorbar": {
              "outlinewidth": 0,
              "ticks": ""
             }
            },
            "type": "scatter3d"
           }
          ],
          "scattercarpet": [
           {
            "marker": {
             "colorbar": {
              "outlinewidth": 0,
              "ticks": ""
             }
            },
            "type": "scattercarpet"
           }
          ],
          "scattergeo": [
           {
            "marker": {
             "colorbar": {
              "outlinewidth": 0,
              "ticks": ""
             }
            },
            "type": "scattergeo"
           }
          ],
          "scattergl": [
           {
            "marker": {
             "colorbar": {
              "outlinewidth": 0,
              "ticks": ""
             }
            },
            "type": "scattergl"
           }
          ],
          "scattermapbox": [
           {
            "marker": {
             "colorbar": {
              "outlinewidth": 0,
              "ticks": ""
             }
            },
            "type": "scattermapbox"
           }
          ],
          "scatterpolar": [
           {
            "marker": {
             "colorbar": {
              "outlinewidth": 0,
              "ticks": ""
             }
            },
            "type": "scatterpolar"
           }
          ],
          "scatterpolargl": [
           {
            "marker": {
             "colorbar": {
              "outlinewidth": 0,
              "ticks": ""
             }
            },
            "type": "scatterpolargl"
           }
          ],
          "scatterternary": [
           {
            "marker": {
             "colorbar": {
              "outlinewidth": 0,
              "ticks": ""
             }
            },
            "type": "scatterternary"
           }
          ],
          "surface": [
           {
            "colorbar": {
             "outlinewidth": 0,
             "ticks": ""
            },
            "colorscale": [
             [
              0,
              "#0d0887"
             ],
             [
              0.1111111111111111,
              "#46039f"
             ],
             [
              0.2222222222222222,
              "#7201a8"
             ],
             [
              0.3333333333333333,
              "#9c179e"
             ],
             [
              0.4444444444444444,
              "#bd3786"
             ],
             [
              0.5555555555555556,
              "#d8576b"
             ],
             [
              0.6666666666666666,
              "#ed7953"
             ],
             [
              0.7777777777777778,
              "#fb9f3a"
             ],
             [
              0.8888888888888888,
              "#fdca26"
             ],
             [
              1,
              "#f0f921"
             ]
            ],
            "type": "surface"
           }
          ],
          "table": [
           {
            "cells": {
             "fill": {
              "color": "#EBF0F8"
             },
             "line": {
              "color": "white"
             }
            },
            "header": {
             "fill": {
              "color": "#C8D4E3"
             },
             "line": {
              "color": "white"
             }
            },
            "type": "table"
           }
          ]
         },
         "layout": {
          "annotationdefaults": {
           "arrowcolor": "#2a3f5f",
           "arrowhead": 0,
           "arrowwidth": 1
          },
          "autotypenumbers": "strict",
          "coloraxis": {
           "colorbar": {
            "outlinewidth": 0,
            "ticks": ""
           }
          },
          "colorscale": {
           "diverging": [
            [
             0,
             "#8e0152"
            ],
            [
             0.1,
             "#c51b7d"
            ],
            [
             0.2,
             "#de77ae"
            ],
            [
             0.3,
             "#f1b6da"
            ],
            [
             0.4,
             "#fde0ef"
            ],
            [
             0.5,
             "#f7f7f7"
            ],
            [
             0.6,
             "#e6f5d0"
            ],
            [
             0.7,
             "#b8e186"
            ],
            [
             0.8,
             "#7fbc41"
            ],
            [
             0.9,
             "#4d9221"
            ],
            [
             1,
             "#276419"
            ]
           ],
           "sequential": [
            [
             0,
             "#0d0887"
            ],
            [
             0.1111111111111111,
             "#46039f"
            ],
            [
             0.2222222222222222,
             "#7201a8"
            ],
            [
             0.3333333333333333,
             "#9c179e"
            ],
            [
             0.4444444444444444,
             "#bd3786"
            ],
            [
             0.5555555555555556,
             "#d8576b"
            ],
            [
             0.6666666666666666,
             "#ed7953"
            ],
            [
             0.7777777777777778,
             "#fb9f3a"
            ],
            [
             0.8888888888888888,
             "#fdca26"
            ],
            [
             1,
             "#f0f921"
            ]
           ],
           "sequentialminus": [
            [
             0,
             "#0d0887"
            ],
            [
             0.1111111111111111,
             "#46039f"
            ],
            [
             0.2222222222222222,
             "#7201a8"
            ],
            [
             0.3333333333333333,
             "#9c179e"
            ],
            [
             0.4444444444444444,
             "#bd3786"
            ],
            [
             0.5555555555555556,
             "#d8576b"
            ],
            [
             0.6666666666666666,
             "#ed7953"
            ],
            [
             0.7777777777777778,
             "#fb9f3a"
            ],
            [
             0.8888888888888888,
             "#fdca26"
            ],
            [
             1,
             "#f0f921"
            ]
           ]
          },
          "colorway": [
           "#636efa",
           "#EF553B",
           "#00cc96",
           "#ab63fa",
           "#FFA15A",
           "#19d3f3",
           "#FF6692",
           "#B6E880",
           "#FF97FF",
           "#FECB52"
          ],
          "font": {
           "color": "#2a3f5f"
          },
          "geo": {
           "bgcolor": "white",
           "lakecolor": "white",
           "landcolor": "#E5ECF6",
           "showlakes": true,
           "showland": true,
           "subunitcolor": "white"
          },
          "hoverlabel": {
           "align": "left"
          },
          "hovermode": "closest",
          "mapbox": {
           "style": "light"
          },
          "paper_bgcolor": "white",
          "plot_bgcolor": "#E5ECF6",
          "polar": {
           "angularaxis": {
            "gridcolor": "white",
            "linecolor": "white",
            "ticks": ""
           },
           "bgcolor": "#E5ECF6",
           "radialaxis": {
            "gridcolor": "white",
            "linecolor": "white",
            "ticks": ""
           }
          },
          "scene": {
           "xaxis": {
            "backgroundcolor": "#E5ECF6",
            "gridcolor": "white",
            "gridwidth": 2,
            "linecolor": "white",
            "showbackground": true,
            "ticks": "",
            "zerolinecolor": "white"
           },
           "yaxis": {
            "backgroundcolor": "#E5ECF6",
            "gridcolor": "white",
            "gridwidth": 2,
            "linecolor": "white",
            "showbackground": true,
            "ticks": "",
            "zerolinecolor": "white"
           },
           "zaxis": {
            "backgroundcolor": "#E5ECF6",
            "gridcolor": "white",
            "gridwidth": 2,
            "linecolor": "white",
            "showbackground": true,
            "ticks": "",
            "zerolinecolor": "white"
           }
          },
          "shapedefaults": {
           "line": {
            "color": "#2a3f5f"
           }
          },
          "ternary": {
           "aaxis": {
            "gridcolor": "white",
            "linecolor": "white",
            "ticks": ""
           },
           "baxis": {
            "gridcolor": "white",
            "linecolor": "white",
            "ticks": ""
           },
           "bgcolor": "#E5ECF6",
           "caxis": {
            "gridcolor": "white",
            "linecolor": "white",
            "ticks": ""
           }
          },
          "title": {
           "x": 0.05
          },
          "xaxis": {
           "automargin": true,
           "gridcolor": "white",
           "linecolor": "white",
           "ticks": "",
           "title": {
            "standoff": 15
           },
           "zerolinecolor": "white",
           "zerolinewidth": 2
          },
          "yaxis": {
           "automargin": true,
           "gridcolor": "white",
           "linecolor": "white",
           "ticks": "",
           "title": {
            "standoff": 15
           },
           "zerolinecolor": "white",
           "zerolinewidth": 2
          }
         }
        }
       }
      },
      "text/html": [
       "<div>                            <div id=\"5ac41491-f6c5-484f-be09-a515158a1eda\" class=\"plotly-graph-div\" style=\"height:525px; width:100%;\"></div>            <script type=\"text/javascript\">                require([\"plotly\"], function(Plotly) {                    window.PLOTLYENV=window.PLOTLYENV || {};                                    if (document.getElementById(\"5ac41491-f6c5-484f-be09-a515158a1eda\")) {                    Plotly.newPlot(                        \"5ac41491-f6c5-484f-be09-a515158a1eda\",                        [{\"fill\":\"toself\",\"name\":\" Scottie Scheffler\",\"r\":[1.021,1.194,0.399,-0.301,1.021],\"theta\":[\"Off the Tee\",\"Approach to Green\",\"Around the Green\",\"Putting\",\"Off the Tee\"],\"type\":\"scatterpolar\"},{\"fill\":\"toself\",\"name\":\"Michael Gligic\",\"r\":[-0.081,-0.534,-0.513,-0.281,-0.081],\"theta\":[\"Off the Tee\",\"Approach to Green\",\"Around the Green\",\"Putting\",\"Off the Tee\"],\"type\":\"scatterpolar\"}],                        {\"template\":{\"data\":{\"histogram2dcontour\":[{\"type\":\"histogram2dcontour\",\"colorbar\":{\"outlinewidth\":0,\"ticks\":\"\"},\"colorscale\":[[0.0,\"#0d0887\"],[0.1111111111111111,\"#46039f\"],[0.2222222222222222,\"#7201a8\"],[0.3333333333333333,\"#9c179e\"],[0.4444444444444444,\"#bd3786\"],[0.5555555555555556,\"#d8576b\"],[0.6666666666666666,\"#ed7953\"],[0.7777777777777778,\"#fb9f3a\"],[0.8888888888888888,\"#fdca26\"],[1.0,\"#f0f921\"]]}],\"choropleth\":[{\"type\":\"choropleth\",\"colorbar\":{\"outlinewidth\":0,\"ticks\":\"\"}}],\"histogram2d\":[{\"type\":\"histogram2d\",\"colorbar\":{\"outlinewidth\":0,\"ticks\":\"\"},\"colorscale\":[[0.0,\"#0d0887\"],[0.1111111111111111,\"#46039f\"],[0.2222222222222222,\"#7201a8\"],[0.3333333333333333,\"#9c179e\"],[0.4444444444444444,\"#bd3786\"],[0.5555555555555556,\"#d8576b\"],[0.6666666666666666,\"#ed7953\"],[0.7777777777777778,\"#fb9f3a\"],[0.8888888888888888,\"#fdca26\"],[1.0,\"#f0f921\"]]}],\"heatmap\":[{\"type\":\"heatmap\",\"colorbar\":{\"outlinewidth\":0,\"ticks\":\"\"},\"colorscale\":[[0.0,\"#0d0887\"],[0.1111111111111111,\"#46039f\"],[0.2222222222222222,\"#7201a8\"],[0.3333333333333333,\"#9c179e\"],[0.4444444444444444,\"#bd3786\"],[0.5555555555555556,\"#d8576b\"],[0.6666666666666666,\"#ed7953\"],[0.7777777777777778,\"#fb9f3a\"],[0.8888888888888888,\"#fdca26\"],[1.0,\"#f0f921\"]]}],\"heatmapgl\":[{\"type\":\"heatmapgl\",\"colorbar\":{\"outlinewidth\":0,\"ticks\":\"\"},\"colorscale\":[[0.0,\"#0d0887\"],[0.1111111111111111,\"#46039f\"],[0.2222222222222222,\"#7201a8\"],[0.3333333333333333,\"#9c179e\"],[0.4444444444444444,\"#bd3786\"],[0.5555555555555556,\"#d8576b\"],[0.6666666666666666,\"#ed7953\"],[0.7777777777777778,\"#fb9f3a\"],[0.8888888888888888,\"#fdca26\"],[1.0,\"#f0f921\"]]}],\"contourcarpet\":[{\"type\":\"contourcarpet\",\"colorbar\":{\"outlinewidth\":0,\"ticks\":\"\"}}],\"contour\":[{\"type\":\"contour\",\"colorbar\":{\"outlinewidth\":0,\"ticks\":\"\"},\"colorscale\":[[0.0,\"#0d0887\"],[0.1111111111111111,\"#46039f\"],[0.2222222222222222,\"#7201a8\"],[0.3333333333333333,\"#9c179e\"],[0.4444444444444444,\"#bd3786\"],[0.5555555555555556,\"#d8576b\"],[0.6666666666666666,\"#ed7953\"],[0.7777777777777778,\"#fb9f3a\"],[0.8888888888888888,\"#fdca26\"],[1.0,\"#f0f921\"]]}],\"surface\":[{\"type\":\"surface\",\"colorbar\":{\"outlinewidth\":0,\"ticks\":\"\"},\"colorscale\":[[0.0,\"#0d0887\"],[0.1111111111111111,\"#46039f\"],[0.2222222222222222,\"#7201a8\"],[0.3333333333333333,\"#9c179e\"],[0.4444444444444444,\"#bd3786\"],[0.5555555555555556,\"#d8576b\"],[0.6666666666666666,\"#ed7953\"],[0.7777777777777778,\"#fb9f3a\"],[0.8888888888888888,\"#fdca26\"],[1.0,\"#f0f921\"]]}],\"mesh3d\":[{\"type\":\"mesh3d\",\"colorbar\":{\"outlinewidth\":0,\"ticks\":\"\"}}],\"scatter\":[{\"fillpattern\":{\"fillmode\":\"overlay\",\"size\":10,\"solidity\":0.2},\"type\":\"scatter\"}],\"parcoords\":[{\"type\":\"parcoords\",\"line\":{\"colorbar\":{\"outlinewidth\":0,\"ticks\":\"\"}}}],\"scatterpolargl\":[{\"type\":\"scatterpolargl\",\"marker\":{\"colorbar\":{\"outlinewidth\":0,\"ticks\":\"\"}}}],\"bar\":[{\"error_x\":{\"color\":\"#2a3f5f\"},\"error_y\":{\"color\":\"#2a3f5f\"},\"marker\":{\"line\":{\"color\":\"#E5ECF6\",\"width\":0.5},\"pattern\":{\"fillmode\":\"overlay\",\"size\":10,\"solidity\":0.2}},\"type\":\"bar\"}],\"scattergeo\":[{\"type\":\"scattergeo\",\"marker\":{\"colorbar\":{\"outlinewidth\":0,\"ticks\":\"\"}}}],\"scatterpolar\":[{\"type\":\"scatterpolar\",\"marker\":{\"colorbar\":{\"outlinewidth\":0,\"ticks\":\"\"}}}],\"histogram\":[{\"marker\":{\"pattern\":{\"fillmode\":\"overlay\",\"size\":10,\"solidity\":0.2}},\"type\":\"histogram\"}],\"scattergl\":[{\"type\":\"scattergl\",\"marker\":{\"colorbar\":{\"outlinewidth\":0,\"ticks\":\"\"}}}],\"scatter3d\":[{\"type\":\"scatter3d\",\"line\":{\"colorbar\":{\"outlinewidth\":0,\"ticks\":\"\"}},\"marker\":{\"colorbar\":{\"outlinewidth\":0,\"ticks\":\"\"}}}],\"scattermapbox\":[{\"type\":\"scattermapbox\",\"marker\":{\"colorbar\":{\"outlinewidth\":0,\"ticks\":\"\"}}}],\"scatterternary\":[{\"type\":\"scatterternary\",\"marker\":{\"colorbar\":{\"outlinewidth\":0,\"ticks\":\"\"}}}],\"scattercarpet\":[{\"type\":\"scattercarpet\",\"marker\":{\"colorbar\":{\"outlinewidth\":0,\"ticks\":\"\"}}}],\"carpet\":[{\"aaxis\":{\"endlinecolor\":\"#2a3f5f\",\"gridcolor\":\"white\",\"linecolor\":\"white\",\"minorgridcolor\":\"white\",\"startlinecolor\":\"#2a3f5f\"},\"baxis\":{\"endlinecolor\":\"#2a3f5f\",\"gridcolor\":\"white\",\"linecolor\":\"white\",\"minorgridcolor\":\"white\",\"startlinecolor\":\"#2a3f5f\"},\"type\":\"carpet\"}],\"table\":[{\"cells\":{\"fill\":{\"color\":\"#EBF0F8\"},\"line\":{\"color\":\"white\"}},\"header\":{\"fill\":{\"color\":\"#C8D4E3\"},\"line\":{\"color\":\"white\"}},\"type\":\"table\"}],\"barpolar\":[{\"marker\":{\"line\":{\"color\":\"#E5ECF6\",\"width\":0.5},\"pattern\":{\"fillmode\":\"overlay\",\"size\":10,\"solidity\":0.2}},\"type\":\"barpolar\"}],\"pie\":[{\"automargin\":true,\"type\":\"pie\"}]},\"layout\":{\"autotypenumbers\":\"strict\",\"colorway\":[\"#636efa\",\"#EF553B\",\"#00cc96\",\"#ab63fa\",\"#FFA15A\",\"#19d3f3\",\"#FF6692\",\"#B6E880\",\"#FF97FF\",\"#FECB52\"],\"font\":{\"color\":\"#2a3f5f\"},\"hovermode\":\"closest\",\"hoverlabel\":{\"align\":\"left\"},\"paper_bgcolor\":\"white\",\"plot_bgcolor\":\"#E5ECF6\",\"polar\":{\"bgcolor\":\"#E5ECF6\",\"angularaxis\":{\"gridcolor\":\"white\",\"linecolor\":\"white\",\"ticks\":\"\"},\"radialaxis\":{\"gridcolor\":\"white\",\"linecolor\":\"white\",\"ticks\":\"\"}},\"ternary\":{\"bgcolor\":\"#E5ECF6\",\"aaxis\":{\"gridcolor\":\"white\",\"linecolor\":\"white\",\"ticks\":\"\"},\"baxis\":{\"gridcolor\":\"white\",\"linecolor\":\"white\",\"ticks\":\"\"},\"caxis\":{\"gridcolor\":\"white\",\"linecolor\":\"white\",\"ticks\":\"\"}},\"coloraxis\":{\"colorbar\":{\"outlinewidth\":0,\"ticks\":\"\"}},\"colorscale\":{\"sequential\":[[0.0,\"#0d0887\"],[0.1111111111111111,\"#46039f\"],[0.2222222222222222,\"#7201a8\"],[0.3333333333333333,\"#9c179e\"],[0.4444444444444444,\"#bd3786\"],[0.5555555555555556,\"#d8576b\"],[0.6666666666666666,\"#ed7953\"],[0.7777777777777778,\"#fb9f3a\"],[0.8888888888888888,\"#fdca26\"],[1.0,\"#f0f921\"]],\"sequentialminus\":[[0.0,\"#0d0887\"],[0.1111111111111111,\"#46039f\"],[0.2222222222222222,\"#7201a8\"],[0.3333333333333333,\"#9c179e\"],[0.4444444444444444,\"#bd3786\"],[0.5555555555555556,\"#d8576b\"],[0.6666666666666666,\"#ed7953\"],[0.7777777777777778,\"#fb9f3a\"],[0.8888888888888888,\"#fdca26\"],[1.0,\"#f0f921\"]],\"diverging\":[[0,\"#8e0152\"],[0.1,\"#c51b7d\"],[0.2,\"#de77ae\"],[0.3,\"#f1b6da\"],[0.4,\"#fde0ef\"],[0.5,\"#f7f7f7\"],[0.6,\"#e6f5d0\"],[0.7,\"#b8e186\"],[0.8,\"#7fbc41\"],[0.9,\"#4d9221\"],[1,\"#276419\"]]},\"xaxis\":{\"gridcolor\":\"white\",\"linecolor\":\"white\",\"ticks\":\"\",\"title\":{\"standoff\":15},\"zerolinecolor\":\"white\",\"automargin\":true,\"zerolinewidth\":2},\"yaxis\":{\"gridcolor\":\"white\",\"linecolor\":\"white\",\"ticks\":\"\",\"title\":{\"standoff\":15},\"zerolinecolor\":\"white\",\"automargin\":true,\"zerolinewidth\":2},\"scene\":{\"xaxis\":{\"backgroundcolor\":\"#E5ECF6\",\"gridcolor\":\"white\",\"linecolor\":\"white\",\"showbackground\":true,\"ticks\":\"\",\"zerolinecolor\":\"white\",\"gridwidth\":2},\"yaxis\":{\"backgroundcolor\":\"#E5ECF6\",\"gridcolor\":\"white\",\"linecolor\":\"white\",\"showbackground\":true,\"ticks\":\"\",\"zerolinecolor\":\"white\",\"gridwidth\":2},\"zaxis\":{\"backgroundcolor\":\"#E5ECF6\",\"gridcolor\":\"white\",\"linecolor\":\"white\",\"showbackground\":true,\"ticks\":\"\",\"zerolinecolor\":\"white\",\"gridwidth\":2}},\"shapedefaults\":{\"line\":{\"color\":\"#2a3f5f\"}},\"annotationdefaults\":{\"arrowcolor\":\"#2a3f5f\",\"arrowhead\":0,\"arrowwidth\":1},\"geo\":{\"bgcolor\":\"white\",\"landcolor\":\"#E5ECF6\",\"subunitcolor\":\"white\",\"showland\":true,\"showlakes\":true,\"lakecolor\":\"white\"},\"title\":{\"x\":0.05},\"mapbox\":{\"style\":\"light\"}}},\"polar\":{\"radialaxis\":{\"visible\":true,\"range\":[-1.5,1.5]}},\"showlegend\":true},                        {\"responsive\": true}                    ).then(function(){\n",
       "                            \n",
       "var gd = document.getElementById('5ac41491-f6c5-484f-be09-a515158a1eda');\n",
       "var x = new MutationObserver(function (mutations, observer) {{\n",
       "        var display = window.getComputedStyle(gd).display;\n",
       "        if (!display || display === 'none') {{\n",
       "            console.log([gd, 'removed!']);\n",
       "            Plotly.purge(gd);\n",
       "            observer.disconnect();\n",
       "        }}\n",
       "}});\n",
       "\n",
       "// Listen for the removal of the full notebook cells\n",
       "var notebookContainer = gd.closest('#notebook-container');\n",
       "if (notebookContainer) {{\n",
       "    x.observe(notebookContainer, {childList: true});\n",
       "}}\n",
       "\n",
       "// Listen for the clearing of the current output cell\n",
       "var outputEl = gd.closest('.output');\n",
       "if (outputEl) {{\n",
       "    x.observe(outputEl, {childList: true});\n",
       "}}\n",
       "\n",
       "                        })                };                });            </script>        </div>"
      ]
     },
     "metadata": {},
     "output_type": "display_data"
    }
   ],
   "source": [
    "#Radar Chart for Scheffler SG areas \n",
    "\n",
    "#First lets get Scotties stats\n",
    "Scottie_OTT = sg_df[sg_df['PLAYER'] == 'Scottie Scheffler']['OTT'].iloc[0]\n",
    "Scottie_APP = sg_df[sg_df['PLAYER'] == 'Scottie Scheffler']['APP'].iloc[0]\n",
    "Scottie_ATG = sg_df[sg_df['PLAYER'] == 'Scottie Scheffler']['ARG'].iloc[0]\n",
    "Scottie_PUTT = sg_df[sg_df['PLAYER'] == 'Scottie Scheffler']['PUTT'].iloc[0]\n",
    "\n",
    "#Now Gligic stats\n",
    "MG_OTT = sg_df[sg_df['PLAYER'] == 'Michael Gligic']['OTT'].iloc[0]\n",
    "MG_APP = sg_df[sg_df['PLAYER'] == 'Michael Gligic']['APP'].iloc[0]\n",
    "MG_ATG = sg_df[sg_df['PLAYER'] == 'Michael Gligic']['ARG'].iloc[0]\n",
    "MG_PUTT = sg_df[sg_df['PLAYER'] == 'Michael Gligic']['PUTT'].iloc[0]\n",
    "\n",
    "\n",
    "\n",
    "\n",
    "\n",
    "\n",
    "categories = ['Off the Tee','Approach to Green','Around the Green','Putting','Off the Tee']#close end value\n",
    "\n",
    "fig = go.Figure()\n",
    "\n",
    "fig.add_trace(go.Scatterpolar(\n",
    "      r=[Scottie_OTT, Scottie_APP, Scottie_ATG,Scottie_PUTT, Scottie_OTT],#close end value\n",
    "      theta=categories,\n",
    "      fill='toself',\n",
    "      name=' Scottie Scheffler'\n",
    "))\n",
    "fig.add_trace(go.Scatterpolar(\n",
    "      r=[MG_OTT, MG_APP, MG_ATG,MG_PUTT, MG_OTT],#close end value\n",
    "      theta=categories,\n",
    "      fill='toself',\n",
    "      name='Michael Gligic',\n",
    "        \n",
    "))\n",
    "\n",
    "fig.update_layout(\n",
    "  polar=dict(\n",
    "    radialaxis=dict(\n",
    "      visible=True,\n",
    "      range=[-1.5, 1.5]\n",
    "    )),\n",
    "  showlegend=True\n",
    ")\n",
    "\n",
    "\n",
    "fig.show()\n",
    "\n"
   ]
  },
  {
   "cell_type": "markdown",
   "id": "c93b2043",
   "metadata": {},
   "source": [
    "Now let's create a plot of the top ten players in the money list and break down their SG Total into the components"
   ]
  },
  {
   "cell_type": "code",
   "execution_count": 83,
   "id": "17685a7e",
   "metadata": {},
   "outputs": [
    {
     "data": {
      "text/html": [
       "<div>\n",
       "<style scoped>\n",
       "    .dataframe tbody tr th:only-of-type {\n",
       "        vertical-align: middle;\n",
       "    }\n",
       "\n",
       "    .dataframe tbody tr th {\n",
       "        vertical-align: top;\n",
       "    }\n",
       "\n",
       "    .dataframe thead th {\n",
       "        text-align: right;\n",
       "    }\n",
       "</style>\n",
       "<table border=\"1\" class=\"dataframe\">\n",
       "  <thead>\n",
       "    <tr style=\"text-align: right;\">\n",
       "      <th></th>\n",
       "      <th>PLAYER_ID</th>\n",
       "      <th>PLAYER</th>\n",
       "      <th>OTT</th>\n",
       "      <th>ARG</th>\n",
       "      <th>APP</th>\n",
       "      <th>PUTT</th>\n",
       "      <th>MONEY</th>\n",
       "      <th>TOTAL</th>\n",
       "    </tr>\n",
       "  </thead>\n",
       "  <tbody>\n",
       "    <tr>\n",
       "      <th>0</th>\n",
       "      <td>46046</td>\n",
       "      <td>Scottie Scheffler</td>\n",
       "      <td>1.021</td>\n",
       "      <td>0.399</td>\n",
       "      <td>1.194</td>\n",
       "      <td>-0.301</td>\n",
       "      <td>21014342</td>\n",
       "      <td>2.313</td>\n",
       "    </tr>\n",
       "    <tr>\n",
       "      <th>1</th>\n",
       "      <td>46970</td>\n",
       "      <td>Jon Rahm</td>\n",
       "      <td>0.360</td>\n",
       "      <td>0.104</td>\n",
       "      <td>0.878</td>\n",
       "      <td>0.336</td>\n",
       "      <td>16522608</td>\n",
       "      <td>1.678</td>\n",
       "    </tr>\n",
       "    <tr>\n",
       "      <th>2</th>\n",
       "      <td>46717</td>\n",
       "      <td>Viktor Hovland</td>\n",
       "      <td>0.741</td>\n",
       "      <td>0.060</td>\n",
       "      <td>0.610</td>\n",
       "      <td>0.236</td>\n",
       "      <td>14112235</td>\n",
       "      <td>1.647</td>\n",
       "    </tr>\n",
       "    <tr>\n",
       "      <th>3</th>\n",
       "      <td>28237</td>\n",
       "      <td>Rory McIlroy</td>\n",
       "      <td>0.907</td>\n",
       "      <td>0.309</td>\n",
       "      <td>0.721</td>\n",
       "      <td>0.164</td>\n",
       "      <td>13921008</td>\n",
       "      <td>2.101</td>\n",
       "    </tr>\n",
       "    <tr>\n",
       "      <th>4</th>\n",
       "      <td>39977</td>\n",
       "      <td>Max Homa</td>\n",
       "      <td>0.317</td>\n",
       "      <td>0.233</td>\n",
       "      <td>0.475</td>\n",
       "      <td>0.612</td>\n",
       "      <td>10761517</td>\n",
       "      <td>1.637</td>\n",
       "    </tr>\n",
       "    <tr>\n",
       "      <th>5</th>\n",
       "      <td>51766</td>\n",
       "      <td>Wyndham Clark</td>\n",
       "      <td>0.139</td>\n",
       "      <td>0.255</td>\n",
       "      <td>0.436</td>\n",
       "      <td>0.370</td>\n",
       "      <td>10757490</td>\n",
       "      <td>1.200</td>\n",
       "    </tr>\n",
       "    <tr>\n",
       "      <th>6</th>\n",
       "      <td>35450</td>\n",
       "      <td>Patrick Cantlay</td>\n",
       "      <td>0.852</td>\n",
       "      <td>0.147</td>\n",
       "      <td>0.564</td>\n",
       "      <td>0.305</td>\n",
       "      <td>10372998</td>\n",
       "      <td>1.868</td>\n",
       "    </tr>\n",
       "    <tr>\n",
       "      <th>7</th>\n",
       "      <td>27644</td>\n",
       "      <td>Brian Harman</td>\n",
       "      <td>0.254</td>\n",
       "      <td>0.018</td>\n",
       "      <td>0.008</td>\n",
       "      <td>0.399</td>\n",
       "      <td>9175262</td>\n",
       "      <td>0.679</td>\n",
       "    </tr>\n",
       "    <tr>\n",
       "      <th>8</th>\n",
       "      <td>33141</td>\n",
       "      <td>Keegan Bradley</td>\n",
       "      <td>0.202</td>\n",
       "      <td>0.000</td>\n",
       "      <td>0.237</td>\n",
       "      <td>0.447</td>\n",
       "      <td>9010040</td>\n",
       "      <td>0.886</td>\n",
       "    </tr>\n",
       "    <tr>\n",
       "      <th>9</th>\n",
       "      <td>48081</td>\n",
       "      <td>Xander Schauffele</td>\n",
       "      <td>0.265</td>\n",
       "      <td>0.056</td>\n",
       "      <td>0.880</td>\n",
       "      <td>0.667</td>\n",
       "      <td>8459066</td>\n",
       "      <td>1.868</td>\n",
       "    </tr>\n",
       "    <tr>\n",
       "      <th>19</th>\n",
       "      <td>52411</td>\n",
       "      <td>Kyle Westmoreland</td>\n",
       "      <td>0.093</td>\n",
       "      <td>-0.050</td>\n",
       "      <td>-0.510</td>\n",
       "      <td>-0.431</td>\n",
       "      <td>308365</td>\n",
       "      <td>-0.898</td>\n",
       "    </tr>\n",
       "    <tr>\n",
       "      <th>18</th>\n",
       "      <td>27554</td>\n",
       "      <td>Scott Harrington</td>\n",
       "      <td>0.149</td>\n",
       "      <td>-0.114</td>\n",
       "      <td>-0.246</td>\n",
       "      <td>-0.441</td>\n",
       "      <td>300546</td>\n",
       "      <td>-0.652</td>\n",
       "    </tr>\n",
       "    <tr>\n",
       "      <th>17</th>\n",
       "      <td>48084</td>\n",
       "      <td>Wesley Bryan</td>\n",
       "      <td>-0.446</td>\n",
       "      <td>0.278</td>\n",
       "      <td>-0.423</td>\n",
       "      <td>-0.483</td>\n",
       "      <td>297461</td>\n",
       "      <td>-1.074</td>\n",
       "    </tr>\n",
       "    <tr>\n",
       "      <th>16</th>\n",
       "      <td>31560</td>\n",
       "      <td>Brian Stuard</td>\n",
       "      <td>-1.077</td>\n",
       "      <td>0.109</td>\n",
       "      <td>-0.352</td>\n",
       "      <td>0.236</td>\n",
       "      <td>296420</td>\n",
       "      <td>-1.084</td>\n",
       "    </tr>\n",
       "    <tr>\n",
       "      <th>15</th>\n",
       "      <td>27974</td>\n",
       "      <td>Sung Kang</td>\n",
       "      <td>-0.610</td>\n",
       "      <td>-0.183</td>\n",
       "      <td>0.013</td>\n",
       "      <td>-0.097</td>\n",
       "      <td>292639</td>\n",
       "      <td>-0.877</td>\n",
       "    </tr>\n",
       "    <tr>\n",
       "      <th>14</th>\n",
       "      <td>31202</td>\n",
       "      <td>William McGirt</td>\n",
       "      <td>-0.352</td>\n",
       "      <td>0.102</td>\n",
       "      <td>-0.056</td>\n",
       "      <td>0.255</td>\n",
       "      <td>281110</td>\n",
       "      <td>-0.051</td>\n",
       "    </tr>\n",
       "    <tr>\n",
       "      <th>13</th>\n",
       "      <td>51491</td>\n",
       "      <td>Brandon Matthews</td>\n",
       "      <td>-0.029</td>\n",
       "      <td>-0.893</td>\n",
       "      <td>-0.209</td>\n",
       "      <td>-1.072</td>\n",
       "      <td>265711</td>\n",
       "      <td>-2.203</td>\n",
       "    </tr>\n",
       "    <tr>\n",
       "      <th>12</th>\n",
       "      <td>33410</td>\n",
       "      <td>Andrew Landry</td>\n",
       "      <td>-0.208</td>\n",
       "      <td>-0.271</td>\n",
       "      <td>-0.911</td>\n",
       "      <td>0.075</td>\n",
       "      <td>263815</td>\n",
       "      <td>-1.315</td>\n",
       "    </tr>\n",
       "    <tr>\n",
       "      <th>11</th>\n",
       "      <td>27095</td>\n",
       "      <td>Nick Watney</td>\n",
       "      <td>-1.343</td>\n",
       "      <td>-0.181</td>\n",
       "      <td>-0.191</td>\n",
       "      <td>-0.193</td>\n",
       "      <td>263725</td>\n",
       "      <td>-1.908</td>\n",
       "    </tr>\n",
       "    <tr>\n",
       "      <th>10</th>\n",
       "      <td>32662</td>\n",
       "      <td>Michael Gligic</td>\n",
       "      <td>-0.081</td>\n",
       "      <td>-0.513</td>\n",
       "      <td>-0.534</td>\n",
       "      <td>-0.281</td>\n",
       "      <td>169449</td>\n",
       "      <td>-1.409</td>\n",
       "    </tr>\n",
       "  </tbody>\n",
       "</table>\n",
       "</div>"
      ],
      "text/plain": [
       "    PLAYER_ID             PLAYER    OTT    ARG    APP   PUTT     MONEY  TOTAL\n",
       "0       46046  Scottie Scheffler  1.021  0.399  1.194 -0.301  21014342  2.313\n",
       "1       46970           Jon Rahm  0.360  0.104  0.878  0.336  16522608  1.678\n",
       "2       46717     Viktor Hovland  0.741  0.060  0.610  0.236  14112235  1.647\n",
       "3       28237       Rory McIlroy  0.907  0.309  0.721  0.164  13921008  2.101\n",
       "4       39977           Max Homa  0.317  0.233  0.475  0.612  10761517  1.637\n",
       "5       51766      Wyndham Clark  0.139  0.255  0.436  0.370  10757490  1.200\n",
       "6       35450    Patrick Cantlay  0.852  0.147  0.564  0.305  10372998  1.868\n",
       "7       27644       Brian Harman  0.254  0.018  0.008  0.399   9175262  0.679\n",
       "8       33141     Keegan Bradley  0.202  0.000  0.237  0.447   9010040  0.886\n",
       "9       48081  Xander Schauffele  0.265  0.056  0.880  0.667   8459066  1.868\n",
       "19      52411  Kyle Westmoreland  0.093 -0.050 -0.510 -0.431    308365 -0.898\n",
       "18      27554   Scott Harrington  0.149 -0.114 -0.246 -0.441    300546 -0.652\n",
       "17      48084       Wesley Bryan -0.446  0.278 -0.423 -0.483    297461 -1.074\n",
       "16      31560       Brian Stuard -1.077  0.109 -0.352  0.236    296420 -1.084\n",
       "15      27974          Sung Kang -0.610 -0.183  0.013 -0.097    292639 -0.877\n",
       "14      31202     William McGirt -0.352  0.102 -0.056  0.255    281110 -0.051\n",
       "13      51491   Brandon Matthews -0.029 -0.893 -0.209 -1.072    265711 -2.203\n",
       "12      33410      Andrew Landry -0.208 -0.271 -0.911  0.075    263815 -1.315\n",
       "11      27095        Nick Watney -1.343 -0.181 -0.191 -0.193    263725 -1.908\n",
       "10      32662     Michael Gligic -0.081 -0.513 -0.534 -0.281    169449 -1.409"
      ]
     },
     "execution_count": 83,
     "metadata": {},
     "output_type": "execute_result"
    }
   ],
   "source": [
    "#Sort by money \n",
    "sg_df = sg_df.sort_values(by='MONEY', ascending=False)\n",
    "top_10_money = sg_df.head(10)\n",
    "top_10_money\n",
    "\n",
    "\n",
    "low_10_money = sg_df.sort_values(by='MONEY', ascending=True)\n",
    "low_10_money = low_10_money.head(10)\n",
    "low_10_money\n",
    "\n",
    "money_10 = pd.concat([top_10_money, low_10_money], axis=0, ignore_index=True)\n",
    "money_10 = money_10.sort_values(by='MONEY', ascending=False)\n",
    "money_10"
   ]
  },
  {
   "cell_type": "code",
   "execution_count": 98,
   "id": "a5444357",
   "metadata": {},
   "outputs": [
    {
     "data": {
      "application/vnd.plotly.v1+json": {
       "config": {
        "plotlyServerURL": "https://plot.ly"
       },
       "data": [
        {
         "name": "OTT",
         "type": "bar",
         "x": [
          "Scottie Scheffler",
          "Jon Rahm",
          "Viktor Hovland",
          "Rory McIlroy",
          "Max Homa",
          "Wyndham Clark",
          "Patrick Cantlay",
          "Brian Harman",
          "Keegan Bradley",
          "Xander Schauffele",
          "Kyle Westmoreland",
          "Scott Harrington",
          "Wesley Bryan",
          "Brian Stuard",
          "Sung Kang",
          "William McGirt",
          "Brandon Matthews",
          "Andrew Landry",
          "Nick Watney",
          "Michael Gligic"
         ],
         "y": [
          1.021,
          0.36,
          0.741,
          0.907,
          0.317,
          0.139,
          0.852,
          0.254,
          0.202,
          0.265,
          0.093,
          0.149,
          -0.446,
          -1.077,
          -0.61,
          -0.352,
          -0.029,
          -0.208,
          -1.343,
          -0.081
         ]
        },
        {
         "name": "APP",
         "type": "bar",
         "x": [
          "Scottie Scheffler",
          "Jon Rahm",
          "Viktor Hovland",
          "Rory McIlroy",
          "Max Homa",
          "Wyndham Clark",
          "Patrick Cantlay",
          "Brian Harman",
          "Keegan Bradley",
          "Xander Schauffele",
          "Kyle Westmoreland",
          "Scott Harrington",
          "Wesley Bryan",
          "Brian Stuard",
          "Sung Kang",
          "William McGirt",
          "Brandon Matthews",
          "Andrew Landry",
          "Nick Watney",
          "Michael Gligic"
         ],
         "y": [
          1.194,
          0.878,
          0.61,
          0.721,
          0.475,
          0.436,
          0.564,
          0.008,
          0.237,
          0.88,
          -0.51,
          -0.246,
          -0.423,
          -0.352,
          0.013,
          -0.056,
          -0.209,
          -0.911,
          -0.191,
          -0.534
         ]
        },
        {
         "name": "ARG",
         "type": "bar",
         "x": [
          "Scottie Scheffler",
          "Jon Rahm",
          "Viktor Hovland",
          "Rory McIlroy",
          "Max Homa",
          "Wyndham Clark",
          "Patrick Cantlay",
          "Brian Harman",
          "Keegan Bradley",
          "Xander Schauffele",
          "Kyle Westmoreland",
          "Scott Harrington",
          "Wesley Bryan",
          "Brian Stuard",
          "Sung Kang",
          "William McGirt",
          "Brandon Matthews",
          "Andrew Landry",
          "Nick Watney",
          "Michael Gligic"
         ],
         "y": [
          0.399,
          0.104,
          0.06,
          0.309,
          0.233,
          0.255,
          0.147,
          0.018,
          0,
          0.056,
          -0.05,
          -0.114,
          0.278,
          0.109,
          -0.183,
          0.102,
          -0.893,
          -0.271,
          -0.181,
          -0.513
         ]
        },
        {
         "name": "PUTT",
         "type": "bar",
         "x": [
          "Scottie Scheffler",
          "Jon Rahm",
          "Viktor Hovland",
          "Rory McIlroy",
          "Max Homa",
          "Wyndham Clark",
          "Patrick Cantlay",
          "Brian Harman",
          "Keegan Bradley",
          "Xander Schauffele",
          "Kyle Westmoreland",
          "Scott Harrington",
          "Wesley Bryan",
          "Brian Stuard",
          "Sung Kang",
          "William McGirt",
          "Brandon Matthews",
          "Andrew Landry",
          "Nick Watney",
          "Michael Gligic"
         ],
         "y": [
          -0.301,
          0.336,
          0.236,
          0.164,
          0.612,
          0.37,
          0.305,
          0.399,
          0.447,
          0.667,
          -0.431,
          -0.441,
          -0.483,
          0.236,
          -0.097,
          0.255,
          -1.072,
          0.075,
          -0.193,
          -0.281
         ]
        }
       ],
       "layout": {
        "annotations": [
         {
          "align": "right",
          "font": {
           "color": "green",
           "size": 12
          },
          "showarrow": false,
          "text": "Top 10 highest paid",
          "x": 7.5,
          "xref": "x",
          "y": 1,
          "yref": "paper"
         },
         {
          "align": "left",
          "font": {
           "color": "red",
           "size": 12
          },
          "showarrow": false,
          "text": "Top 10 lowest paid",
          "x": 11.4,
          "xref": "x",
          "y": 1,
          "yref": "paper"
         }
        ],
        "barmode": "relative",
        "legend": {
         "title": {
          "text": "SG Components"
         }
        },
        "shapes": [
         {
          "line": {
           "color": "black",
           "dash": "dash",
           "width": 2
          },
          "type": "line",
          "x0": 9.5,
          "x1": 9.5,
          "xref": "x",
          "y0": 0,
          "y1": 1,
          "yref": "paper"
         }
        ],
        "template": {
         "data": {
          "bar": [
           {
            "error_x": {
             "color": "#2a3f5f"
            },
            "error_y": {
             "color": "#2a3f5f"
            },
            "marker": {
             "line": {
              "color": "#E5ECF6",
              "width": 0.5
             },
             "pattern": {
              "fillmode": "overlay",
              "size": 10,
              "solidity": 0.2
             }
            },
            "type": "bar"
           }
          ],
          "barpolar": [
           {
            "marker": {
             "line": {
              "color": "#E5ECF6",
              "width": 0.5
             },
             "pattern": {
              "fillmode": "overlay",
              "size": 10,
              "solidity": 0.2
             }
            },
            "type": "barpolar"
           }
          ],
          "carpet": [
           {
            "aaxis": {
             "endlinecolor": "#2a3f5f",
             "gridcolor": "white",
             "linecolor": "white",
             "minorgridcolor": "white",
             "startlinecolor": "#2a3f5f"
            },
            "baxis": {
             "endlinecolor": "#2a3f5f",
             "gridcolor": "white",
             "linecolor": "white",
             "minorgridcolor": "white",
             "startlinecolor": "#2a3f5f"
            },
            "type": "carpet"
           }
          ],
          "choropleth": [
           {
            "colorbar": {
             "outlinewidth": 0,
             "ticks": ""
            },
            "type": "choropleth"
           }
          ],
          "contour": [
           {
            "colorbar": {
             "outlinewidth": 0,
             "ticks": ""
            },
            "colorscale": [
             [
              0,
              "#0d0887"
             ],
             [
              0.1111111111111111,
              "#46039f"
             ],
             [
              0.2222222222222222,
              "#7201a8"
             ],
             [
              0.3333333333333333,
              "#9c179e"
             ],
             [
              0.4444444444444444,
              "#bd3786"
             ],
             [
              0.5555555555555556,
              "#d8576b"
             ],
             [
              0.6666666666666666,
              "#ed7953"
             ],
             [
              0.7777777777777778,
              "#fb9f3a"
             ],
             [
              0.8888888888888888,
              "#fdca26"
             ],
             [
              1,
              "#f0f921"
             ]
            ],
            "type": "contour"
           }
          ],
          "contourcarpet": [
           {
            "colorbar": {
             "outlinewidth": 0,
             "ticks": ""
            },
            "type": "contourcarpet"
           }
          ],
          "heatmap": [
           {
            "colorbar": {
             "outlinewidth": 0,
             "ticks": ""
            },
            "colorscale": [
             [
              0,
              "#0d0887"
             ],
             [
              0.1111111111111111,
              "#46039f"
             ],
             [
              0.2222222222222222,
              "#7201a8"
             ],
             [
              0.3333333333333333,
              "#9c179e"
             ],
             [
              0.4444444444444444,
              "#bd3786"
             ],
             [
              0.5555555555555556,
              "#d8576b"
             ],
             [
              0.6666666666666666,
              "#ed7953"
             ],
             [
              0.7777777777777778,
              "#fb9f3a"
             ],
             [
              0.8888888888888888,
              "#fdca26"
             ],
             [
              1,
              "#f0f921"
             ]
            ],
            "type": "heatmap"
           }
          ],
          "heatmapgl": [
           {
            "colorbar": {
             "outlinewidth": 0,
             "ticks": ""
            },
            "colorscale": [
             [
              0,
              "#0d0887"
             ],
             [
              0.1111111111111111,
              "#46039f"
             ],
             [
              0.2222222222222222,
              "#7201a8"
             ],
             [
              0.3333333333333333,
              "#9c179e"
             ],
             [
              0.4444444444444444,
              "#bd3786"
             ],
             [
              0.5555555555555556,
              "#d8576b"
             ],
             [
              0.6666666666666666,
              "#ed7953"
             ],
             [
              0.7777777777777778,
              "#fb9f3a"
             ],
             [
              0.8888888888888888,
              "#fdca26"
             ],
             [
              1,
              "#f0f921"
             ]
            ],
            "type": "heatmapgl"
           }
          ],
          "histogram": [
           {
            "marker": {
             "pattern": {
              "fillmode": "overlay",
              "size": 10,
              "solidity": 0.2
             }
            },
            "type": "histogram"
           }
          ],
          "histogram2d": [
           {
            "colorbar": {
             "outlinewidth": 0,
             "ticks": ""
            },
            "colorscale": [
             [
              0,
              "#0d0887"
             ],
             [
              0.1111111111111111,
              "#46039f"
             ],
             [
              0.2222222222222222,
              "#7201a8"
             ],
             [
              0.3333333333333333,
              "#9c179e"
             ],
             [
              0.4444444444444444,
              "#bd3786"
             ],
             [
              0.5555555555555556,
              "#d8576b"
             ],
             [
              0.6666666666666666,
              "#ed7953"
             ],
             [
              0.7777777777777778,
              "#fb9f3a"
             ],
             [
              0.8888888888888888,
              "#fdca26"
             ],
             [
              1,
              "#f0f921"
             ]
            ],
            "type": "histogram2d"
           }
          ],
          "histogram2dcontour": [
           {
            "colorbar": {
             "outlinewidth": 0,
             "ticks": ""
            },
            "colorscale": [
             [
              0,
              "#0d0887"
             ],
             [
              0.1111111111111111,
              "#46039f"
             ],
             [
              0.2222222222222222,
              "#7201a8"
             ],
             [
              0.3333333333333333,
              "#9c179e"
             ],
             [
              0.4444444444444444,
              "#bd3786"
             ],
             [
              0.5555555555555556,
              "#d8576b"
             ],
             [
              0.6666666666666666,
              "#ed7953"
             ],
             [
              0.7777777777777778,
              "#fb9f3a"
             ],
             [
              0.8888888888888888,
              "#fdca26"
             ],
             [
              1,
              "#f0f921"
             ]
            ],
            "type": "histogram2dcontour"
           }
          ],
          "mesh3d": [
           {
            "colorbar": {
             "outlinewidth": 0,
             "ticks": ""
            },
            "type": "mesh3d"
           }
          ],
          "parcoords": [
           {
            "line": {
             "colorbar": {
              "outlinewidth": 0,
              "ticks": ""
             }
            },
            "type": "parcoords"
           }
          ],
          "pie": [
           {
            "automargin": true,
            "type": "pie"
           }
          ],
          "scatter": [
           {
            "fillpattern": {
             "fillmode": "overlay",
             "size": 10,
             "solidity": 0.2
            },
            "type": "scatter"
           }
          ],
          "scatter3d": [
           {
            "line": {
             "colorbar": {
              "outlinewidth": 0,
              "ticks": ""
             }
            },
            "marker": {
             "colorbar": {
              "outlinewidth": 0,
              "ticks": ""
             }
            },
            "type": "scatter3d"
           }
          ],
          "scattercarpet": [
           {
            "marker": {
             "colorbar": {
              "outlinewidth": 0,
              "ticks": ""
             }
            },
            "type": "scattercarpet"
           }
          ],
          "scattergeo": [
           {
            "marker": {
             "colorbar": {
              "outlinewidth": 0,
              "ticks": ""
             }
            },
            "type": "scattergeo"
           }
          ],
          "scattergl": [
           {
            "marker": {
             "colorbar": {
              "outlinewidth": 0,
              "ticks": ""
             }
            },
            "type": "scattergl"
           }
          ],
          "scattermapbox": [
           {
            "marker": {
             "colorbar": {
              "outlinewidth": 0,
              "ticks": ""
             }
            },
            "type": "scattermapbox"
           }
          ],
          "scatterpolar": [
           {
            "marker": {
             "colorbar": {
              "outlinewidth": 0,
              "ticks": ""
             }
            },
            "type": "scatterpolar"
           }
          ],
          "scatterpolargl": [
           {
            "marker": {
             "colorbar": {
              "outlinewidth": 0,
              "ticks": ""
             }
            },
            "type": "scatterpolargl"
           }
          ],
          "scatterternary": [
           {
            "marker": {
             "colorbar": {
              "outlinewidth": 0,
              "ticks": ""
             }
            },
            "type": "scatterternary"
           }
          ],
          "surface": [
           {
            "colorbar": {
             "outlinewidth": 0,
             "ticks": ""
            },
            "colorscale": [
             [
              0,
              "#0d0887"
             ],
             [
              0.1111111111111111,
              "#46039f"
             ],
             [
              0.2222222222222222,
              "#7201a8"
             ],
             [
              0.3333333333333333,
              "#9c179e"
             ],
             [
              0.4444444444444444,
              "#bd3786"
             ],
             [
              0.5555555555555556,
              "#d8576b"
             ],
             [
              0.6666666666666666,
              "#ed7953"
             ],
             [
              0.7777777777777778,
              "#fb9f3a"
             ],
             [
              0.8888888888888888,
              "#fdca26"
             ],
             [
              1,
              "#f0f921"
             ]
            ],
            "type": "surface"
           }
          ],
          "table": [
           {
            "cells": {
             "fill": {
              "color": "#EBF0F8"
             },
             "line": {
              "color": "white"
             }
            },
            "header": {
             "fill": {
              "color": "#C8D4E3"
             },
             "line": {
              "color": "white"
             }
            },
            "type": "table"
           }
          ]
         },
         "layout": {
          "annotationdefaults": {
           "arrowcolor": "#2a3f5f",
           "arrowhead": 0,
           "arrowwidth": 1
          },
          "autotypenumbers": "strict",
          "coloraxis": {
           "colorbar": {
            "outlinewidth": 0,
            "ticks": ""
           }
          },
          "colorscale": {
           "diverging": [
            [
             0,
             "#8e0152"
            ],
            [
             0.1,
             "#c51b7d"
            ],
            [
             0.2,
             "#de77ae"
            ],
            [
             0.3,
             "#f1b6da"
            ],
            [
             0.4,
             "#fde0ef"
            ],
            [
             0.5,
             "#f7f7f7"
            ],
            [
             0.6,
             "#e6f5d0"
            ],
            [
             0.7,
             "#b8e186"
            ],
            [
             0.8,
             "#7fbc41"
            ],
            [
             0.9,
             "#4d9221"
            ],
            [
             1,
             "#276419"
            ]
           ],
           "sequential": [
            [
             0,
             "#0d0887"
            ],
            [
             0.1111111111111111,
             "#46039f"
            ],
            [
             0.2222222222222222,
             "#7201a8"
            ],
            [
             0.3333333333333333,
             "#9c179e"
            ],
            [
             0.4444444444444444,
             "#bd3786"
            ],
            [
             0.5555555555555556,
             "#d8576b"
            ],
            [
             0.6666666666666666,
             "#ed7953"
            ],
            [
             0.7777777777777778,
             "#fb9f3a"
            ],
            [
             0.8888888888888888,
             "#fdca26"
            ],
            [
             1,
             "#f0f921"
            ]
           ],
           "sequentialminus": [
            [
             0,
             "#0d0887"
            ],
            [
             0.1111111111111111,
             "#46039f"
            ],
            [
             0.2222222222222222,
             "#7201a8"
            ],
            [
             0.3333333333333333,
             "#9c179e"
            ],
            [
             0.4444444444444444,
             "#bd3786"
            ],
            [
             0.5555555555555556,
             "#d8576b"
            ],
            [
             0.6666666666666666,
             "#ed7953"
            ],
            [
             0.7777777777777778,
             "#fb9f3a"
            ],
            [
             0.8888888888888888,
             "#fdca26"
            ],
            [
             1,
             "#f0f921"
            ]
           ]
          },
          "colorway": [
           "#636efa",
           "#EF553B",
           "#00cc96",
           "#ab63fa",
           "#FFA15A",
           "#19d3f3",
           "#FF6692",
           "#B6E880",
           "#FF97FF",
           "#FECB52"
          ],
          "font": {
           "color": "#2a3f5f"
          },
          "geo": {
           "bgcolor": "white",
           "lakecolor": "white",
           "landcolor": "#E5ECF6",
           "showlakes": true,
           "showland": true,
           "subunitcolor": "white"
          },
          "hoverlabel": {
           "align": "left"
          },
          "hovermode": "closest",
          "mapbox": {
           "style": "light"
          },
          "paper_bgcolor": "white",
          "plot_bgcolor": "#E5ECF6",
          "polar": {
           "angularaxis": {
            "gridcolor": "white",
            "linecolor": "white",
            "ticks": ""
           },
           "bgcolor": "#E5ECF6",
           "radialaxis": {
            "gridcolor": "white",
            "linecolor": "white",
            "ticks": ""
           }
          },
          "scene": {
           "xaxis": {
            "backgroundcolor": "#E5ECF6",
            "gridcolor": "white",
            "gridwidth": 2,
            "linecolor": "white",
            "showbackground": true,
            "ticks": "",
            "zerolinecolor": "white"
           },
           "yaxis": {
            "backgroundcolor": "#E5ECF6",
            "gridcolor": "white",
            "gridwidth": 2,
            "linecolor": "white",
            "showbackground": true,
            "ticks": "",
            "zerolinecolor": "white"
           },
           "zaxis": {
            "backgroundcolor": "#E5ECF6",
            "gridcolor": "white",
            "gridwidth": 2,
            "linecolor": "white",
            "showbackground": true,
            "ticks": "",
            "zerolinecolor": "white"
           }
          },
          "shapedefaults": {
           "line": {
            "color": "#2a3f5f"
           }
          },
          "ternary": {
           "aaxis": {
            "gridcolor": "white",
            "linecolor": "white",
            "ticks": ""
           },
           "baxis": {
            "gridcolor": "white",
            "linecolor": "white",
            "ticks": ""
           },
           "bgcolor": "#E5ECF6",
           "caxis": {
            "gridcolor": "white",
            "linecolor": "white",
            "ticks": ""
           }
          },
          "title": {
           "x": 0.05
          },
          "xaxis": {
           "automargin": true,
           "gridcolor": "white",
           "linecolor": "white",
           "ticks": "",
           "title": {
            "standoff": 15
           },
           "zerolinecolor": "white",
           "zerolinewidth": 2
          },
          "yaxis": {
           "automargin": true,
           "gridcolor": "white",
           "linecolor": "white",
           "ticks": "",
           "title": {
            "standoff": 15
           },
           "zerolinecolor": "white",
           "zerolinewidth": 2
          }
         }
        },
        "title": {
         "text": "SG Total by Component for Top 10 and Bottom 10 of Money list PGA Tour 2023"
        },
        "xaxis": {
         "categoryorder": "total descending",
         "title": {
          "text": "Player"
         }
        },
        "yaxis": {
         "title": {
          "text": "SG Total"
         }
        }
       }
      },
      "text/html": [
       "<div>                            <div id=\"ad356eaf-f82c-4fe5-938e-d6015203c842\" class=\"plotly-graph-div\" style=\"height:525px; width:100%;\"></div>            <script type=\"text/javascript\">                require([\"plotly\"], function(Plotly) {                    window.PLOTLYENV=window.PLOTLYENV || {};                                    if (document.getElementById(\"ad356eaf-f82c-4fe5-938e-d6015203c842\")) {                    Plotly.newPlot(                        \"ad356eaf-f82c-4fe5-938e-d6015203c842\",                        [{\"name\":\"OTT\",\"x\":[\"Scottie Scheffler\",\"Jon Rahm\",\"Viktor Hovland\",\"Rory McIlroy\",\"Max Homa\",\"Wyndham Clark\",\"Patrick Cantlay\",\"Brian Harman\",\"Keegan Bradley\",\"Xander Schauffele\",\"Kyle Westmoreland\",\"Scott Harrington\",\"Wesley Bryan\",\"Brian Stuard\",\"Sung Kang\",\"William McGirt\",\"Brandon Matthews\",\"Andrew Landry\",\"Nick Watney\",\"Michael Gligic\"],\"y\":[1.021,0.36,0.741,0.907,0.317,0.139,0.852,0.254,0.202,0.265,0.093,0.149,-0.446,-1.077,-0.61,-0.352,-0.029,-0.208,-1.343,-0.081],\"type\":\"bar\"},{\"name\":\"APP\",\"x\":[\"Scottie Scheffler\",\"Jon Rahm\",\"Viktor Hovland\",\"Rory McIlroy\",\"Max Homa\",\"Wyndham Clark\",\"Patrick Cantlay\",\"Brian Harman\",\"Keegan Bradley\",\"Xander Schauffele\",\"Kyle Westmoreland\",\"Scott Harrington\",\"Wesley Bryan\",\"Brian Stuard\",\"Sung Kang\",\"William McGirt\",\"Brandon Matthews\",\"Andrew Landry\",\"Nick Watney\",\"Michael Gligic\"],\"y\":[1.194,0.878,0.61,0.721,0.475,0.436,0.564,0.008,0.237,0.88,-0.51,-0.246,-0.423,-0.352,0.013,-0.056,-0.209,-0.911,-0.191,-0.534],\"type\":\"bar\"},{\"name\":\"ARG\",\"x\":[\"Scottie Scheffler\",\"Jon Rahm\",\"Viktor Hovland\",\"Rory McIlroy\",\"Max Homa\",\"Wyndham Clark\",\"Patrick Cantlay\",\"Brian Harman\",\"Keegan Bradley\",\"Xander Schauffele\",\"Kyle Westmoreland\",\"Scott Harrington\",\"Wesley Bryan\",\"Brian Stuard\",\"Sung Kang\",\"William McGirt\",\"Brandon Matthews\",\"Andrew Landry\",\"Nick Watney\",\"Michael Gligic\"],\"y\":[0.399,0.104,0.06,0.309,0.233,0.255,0.147,0.018,0.0,0.056,-0.05,-0.114,0.278,0.109,-0.183,0.102,-0.893,-0.271,-0.181,-0.513],\"type\":\"bar\"},{\"name\":\"PUTT\",\"x\":[\"Scottie Scheffler\",\"Jon Rahm\",\"Viktor Hovland\",\"Rory McIlroy\",\"Max Homa\",\"Wyndham Clark\",\"Patrick Cantlay\",\"Brian Harman\",\"Keegan Bradley\",\"Xander Schauffele\",\"Kyle Westmoreland\",\"Scott Harrington\",\"Wesley Bryan\",\"Brian Stuard\",\"Sung Kang\",\"William McGirt\",\"Brandon Matthews\",\"Andrew Landry\",\"Nick Watney\",\"Michael Gligic\"],\"y\":[-0.301,0.336,0.236,0.164,0.612,0.37,0.305,0.399,0.447,0.667,-0.431,-0.441,-0.483,0.236,-0.097,0.255,-1.072,0.075,-0.193,-0.281],\"type\":\"bar\"}],                        {\"template\":{\"data\":{\"histogram2dcontour\":[{\"type\":\"histogram2dcontour\",\"colorbar\":{\"outlinewidth\":0,\"ticks\":\"\"},\"colorscale\":[[0.0,\"#0d0887\"],[0.1111111111111111,\"#46039f\"],[0.2222222222222222,\"#7201a8\"],[0.3333333333333333,\"#9c179e\"],[0.4444444444444444,\"#bd3786\"],[0.5555555555555556,\"#d8576b\"],[0.6666666666666666,\"#ed7953\"],[0.7777777777777778,\"#fb9f3a\"],[0.8888888888888888,\"#fdca26\"],[1.0,\"#f0f921\"]]}],\"choropleth\":[{\"type\":\"choropleth\",\"colorbar\":{\"outlinewidth\":0,\"ticks\":\"\"}}],\"histogram2d\":[{\"type\":\"histogram2d\",\"colorbar\":{\"outlinewidth\":0,\"ticks\":\"\"},\"colorscale\":[[0.0,\"#0d0887\"],[0.1111111111111111,\"#46039f\"],[0.2222222222222222,\"#7201a8\"],[0.3333333333333333,\"#9c179e\"],[0.4444444444444444,\"#bd3786\"],[0.5555555555555556,\"#d8576b\"],[0.6666666666666666,\"#ed7953\"],[0.7777777777777778,\"#fb9f3a\"],[0.8888888888888888,\"#fdca26\"],[1.0,\"#f0f921\"]]}],\"heatmap\":[{\"type\":\"heatmap\",\"colorbar\":{\"outlinewidth\":0,\"ticks\":\"\"},\"colorscale\":[[0.0,\"#0d0887\"],[0.1111111111111111,\"#46039f\"],[0.2222222222222222,\"#7201a8\"],[0.3333333333333333,\"#9c179e\"],[0.4444444444444444,\"#bd3786\"],[0.5555555555555556,\"#d8576b\"],[0.6666666666666666,\"#ed7953\"],[0.7777777777777778,\"#fb9f3a\"],[0.8888888888888888,\"#fdca26\"],[1.0,\"#f0f921\"]]}],\"heatmapgl\":[{\"type\":\"heatmapgl\",\"colorbar\":{\"outlinewidth\":0,\"ticks\":\"\"},\"colorscale\":[[0.0,\"#0d0887\"],[0.1111111111111111,\"#46039f\"],[0.2222222222222222,\"#7201a8\"],[0.3333333333333333,\"#9c179e\"],[0.4444444444444444,\"#bd3786\"],[0.5555555555555556,\"#d8576b\"],[0.6666666666666666,\"#ed7953\"],[0.7777777777777778,\"#fb9f3a\"],[0.8888888888888888,\"#fdca26\"],[1.0,\"#f0f921\"]]}],\"contourcarpet\":[{\"type\":\"contourcarpet\",\"colorbar\":{\"outlinewidth\":0,\"ticks\":\"\"}}],\"contour\":[{\"type\":\"contour\",\"colorbar\":{\"outlinewidth\":0,\"ticks\":\"\"},\"colorscale\":[[0.0,\"#0d0887\"],[0.1111111111111111,\"#46039f\"],[0.2222222222222222,\"#7201a8\"],[0.3333333333333333,\"#9c179e\"],[0.4444444444444444,\"#bd3786\"],[0.5555555555555556,\"#d8576b\"],[0.6666666666666666,\"#ed7953\"],[0.7777777777777778,\"#fb9f3a\"],[0.8888888888888888,\"#fdca26\"],[1.0,\"#f0f921\"]]}],\"surface\":[{\"type\":\"surface\",\"colorbar\":{\"outlinewidth\":0,\"ticks\":\"\"},\"colorscale\":[[0.0,\"#0d0887\"],[0.1111111111111111,\"#46039f\"],[0.2222222222222222,\"#7201a8\"],[0.3333333333333333,\"#9c179e\"],[0.4444444444444444,\"#bd3786\"],[0.5555555555555556,\"#d8576b\"],[0.6666666666666666,\"#ed7953\"],[0.7777777777777778,\"#fb9f3a\"],[0.8888888888888888,\"#fdca26\"],[1.0,\"#f0f921\"]]}],\"mesh3d\":[{\"type\":\"mesh3d\",\"colorbar\":{\"outlinewidth\":0,\"ticks\":\"\"}}],\"scatter\":[{\"fillpattern\":{\"fillmode\":\"overlay\",\"size\":10,\"solidity\":0.2},\"type\":\"scatter\"}],\"parcoords\":[{\"type\":\"parcoords\",\"line\":{\"colorbar\":{\"outlinewidth\":0,\"ticks\":\"\"}}}],\"scatterpolargl\":[{\"type\":\"scatterpolargl\",\"marker\":{\"colorbar\":{\"outlinewidth\":0,\"ticks\":\"\"}}}],\"bar\":[{\"error_x\":{\"color\":\"#2a3f5f\"},\"error_y\":{\"color\":\"#2a3f5f\"},\"marker\":{\"line\":{\"color\":\"#E5ECF6\",\"width\":0.5},\"pattern\":{\"fillmode\":\"overlay\",\"size\":10,\"solidity\":0.2}},\"type\":\"bar\"}],\"scattergeo\":[{\"type\":\"scattergeo\",\"marker\":{\"colorbar\":{\"outlinewidth\":0,\"ticks\":\"\"}}}],\"scatterpolar\":[{\"type\":\"scatterpolar\",\"marker\":{\"colorbar\":{\"outlinewidth\":0,\"ticks\":\"\"}}}],\"histogram\":[{\"marker\":{\"pattern\":{\"fillmode\":\"overlay\",\"size\":10,\"solidity\":0.2}},\"type\":\"histogram\"}],\"scattergl\":[{\"type\":\"scattergl\",\"marker\":{\"colorbar\":{\"outlinewidth\":0,\"ticks\":\"\"}}}],\"scatter3d\":[{\"type\":\"scatter3d\",\"line\":{\"colorbar\":{\"outlinewidth\":0,\"ticks\":\"\"}},\"marker\":{\"colorbar\":{\"outlinewidth\":0,\"ticks\":\"\"}}}],\"scattermapbox\":[{\"type\":\"scattermapbox\",\"marker\":{\"colorbar\":{\"outlinewidth\":0,\"ticks\":\"\"}}}],\"scatterternary\":[{\"type\":\"scatterternary\",\"marker\":{\"colorbar\":{\"outlinewidth\":0,\"ticks\":\"\"}}}],\"scattercarpet\":[{\"type\":\"scattercarpet\",\"marker\":{\"colorbar\":{\"outlinewidth\":0,\"ticks\":\"\"}}}],\"carpet\":[{\"aaxis\":{\"endlinecolor\":\"#2a3f5f\",\"gridcolor\":\"white\",\"linecolor\":\"white\",\"minorgridcolor\":\"white\",\"startlinecolor\":\"#2a3f5f\"},\"baxis\":{\"endlinecolor\":\"#2a3f5f\",\"gridcolor\":\"white\",\"linecolor\":\"white\",\"minorgridcolor\":\"white\",\"startlinecolor\":\"#2a3f5f\"},\"type\":\"carpet\"}],\"table\":[{\"cells\":{\"fill\":{\"color\":\"#EBF0F8\"},\"line\":{\"color\":\"white\"}},\"header\":{\"fill\":{\"color\":\"#C8D4E3\"},\"line\":{\"color\":\"white\"}},\"type\":\"table\"}],\"barpolar\":[{\"marker\":{\"line\":{\"color\":\"#E5ECF6\",\"width\":0.5},\"pattern\":{\"fillmode\":\"overlay\",\"size\":10,\"solidity\":0.2}},\"type\":\"barpolar\"}],\"pie\":[{\"automargin\":true,\"type\":\"pie\"}]},\"layout\":{\"autotypenumbers\":\"strict\",\"colorway\":[\"#636efa\",\"#EF553B\",\"#00cc96\",\"#ab63fa\",\"#FFA15A\",\"#19d3f3\",\"#FF6692\",\"#B6E880\",\"#FF97FF\",\"#FECB52\"],\"font\":{\"color\":\"#2a3f5f\"},\"hovermode\":\"closest\",\"hoverlabel\":{\"align\":\"left\"},\"paper_bgcolor\":\"white\",\"plot_bgcolor\":\"#E5ECF6\",\"polar\":{\"bgcolor\":\"#E5ECF6\",\"angularaxis\":{\"gridcolor\":\"white\",\"linecolor\":\"white\",\"ticks\":\"\"},\"radialaxis\":{\"gridcolor\":\"white\",\"linecolor\":\"white\",\"ticks\":\"\"}},\"ternary\":{\"bgcolor\":\"#E5ECF6\",\"aaxis\":{\"gridcolor\":\"white\",\"linecolor\":\"white\",\"ticks\":\"\"},\"baxis\":{\"gridcolor\":\"white\",\"linecolor\":\"white\",\"ticks\":\"\"},\"caxis\":{\"gridcolor\":\"white\",\"linecolor\":\"white\",\"ticks\":\"\"}},\"coloraxis\":{\"colorbar\":{\"outlinewidth\":0,\"ticks\":\"\"}},\"colorscale\":{\"sequential\":[[0.0,\"#0d0887\"],[0.1111111111111111,\"#46039f\"],[0.2222222222222222,\"#7201a8\"],[0.3333333333333333,\"#9c179e\"],[0.4444444444444444,\"#bd3786\"],[0.5555555555555556,\"#d8576b\"],[0.6666666666666666,\"#ed7953\"],[0.7777777777777778,\"#fb9f3a\"],[0.8888888888888888,\"#fdca26\"],[1.0,\"#f0f921\"]],\"sequentialminus\":[[0.0,\"#0d0887\"],[0.1111111111111111,\"#46039f\"],[0.2222222222222222,\"#7201a8\"],[0.3333333333333333,\"#9c179e\"],[0.4444444444444444,\"#bd3786\"],[0.5555555555555556,\"#d8576b\"],[0.6666666666666666,\"#ed7953\"],[0.7777777777777778,\"#fb9f3a\"],[0.8888888888888888,\"#fdca26\"],[1.0,\"#f0f921\"]],\"diverging\":[[0,\"#8e0152\"],[0.1,\"#c51b7d\"],[0.2,\"#de77ae\"],[0.3,\"#f1b6da\"],[0.4,\"#fde0ef\"],[0.5,\"#f7f7f7\"],[0.6,\"#e6f5d0\"],[0.7,\"#b8e186\"],[0.8,\"#7fbc41\"],[0.9,\"#4d9221\"],[1,\"#276419\"]]},\"xaxis\":{\"gridcolor\":\"white\",\"linecolor\":\"white\",\"ticks\":\"\",\"title\":{\"standoff\":15},\"zerolinecolor\":\"white\",\"automargin\":true,\"zerolinewidth\":2},\"yaxis\":{\"gridcolor\":\"white\",\"linecolor\":\"white\",\"ticks\":\"\",\"title\":{\"standoff\":15},\"zerolinecolor\":\"white\",\"automargin\":true,\"zerolinewidth\":2},\"scene\":{\"xaxis\":{\"backgroundcolor\":\"#E5ECF6\",\"gridcolor\":\"white\",\"linecolor\":\"white\",\"showbackground\":true,\"ticks\":\"\",\"zerolinecolor\":\"white\",\"gridwidth\":2},\"yaxis\":{\"backgroundcolor\":\"#E5ECF6\",\"gridcolor\":\"white\",\"linecolor\":\"white\",\"showbackground\":true,\"ticks\":\"\",\"zerolinecolor\":\"white\",\"gridwidth\":2},\"zaxis\":{\"backgroundcolor\":\"#E5ECF6\",\"gridcolor\":\"white\",\"linecolor\":\"white\",\"showbackground\":true,\"ticks\":\"\",\"zerolinecolor\":\"white\",\"gridwidth\":2}},\"shapedefaults\":{\"line\":{\"color\":\"#2a3f5f\"}},\"annotationdefaults\":{\"arrowcolor\":\"#2a3f5f\",\"arrowhead\":0,\"arrowwidth\":1},\"geo\":{\"bgcolor\":\"white\",\"landcolor\":\"#E5ECF6\",\"subunitcolor\":\"white\",\"showland\":true,\"showlakes\":true,\"lakecolor\":\"white\"},\"title\":{\"x\":0.05},\"mapbox\":{\"style\":\"light\"}}},\"xaxis\":{\"title\":{\"text\":\"Player\"},\"categoryorder\":\"total descending\"},\"barmode\":\"relative\",\"title\":{\"text\":\"SG Total by Component for Top 10 and Bottom 10 of Money list PGA Tour 2023\"},\"yaxis\":{\"title\":{\"text\":\"SG Total\"}},\"legend\":{\"title\":{\"text\":\"SG Components\"}},\"shapes\":[{\"line\":{\"color\":\"black\",\"dash\":\"dash\",\"width\":2},\"type\":\"line\",\"x0\":9.5,\"x1\":9.5,\"xref\":\"x\",\"y0\":0,\"y1\":1,\"yref\":\"paper\"}],\"annotations\":[{\"align\":\"right\",\"font\":{\"color\":\"green\",\"size\":12},\"showarrow\":false,\"text\":\"Top 10 highest paid\",\"x\":7.5,\"xref\":\"x\",\"y\":1,\"yref\":\"paper\"},{\"align\":\"left\",\"font\":{\"color\":\"red\",\"size\":12},\"showarrow\":false,\"text\":\"Top 10 lowest paid\",\"x\":11.4,\"xref\":\"x\",\"y\":1,\"yref\":\"paper\"}]},                        {\"responsive\": true}                    ).then(function(){\n",
       "                            \n",
       "var gd = document.getElementById('ad356eaf-f82c-4fe5-938e-d6015203c842');\n",
       "var x = new MutationObserver(function (mutations, observer) {{\n",
       "        var display = window.getComputedStyle(gd).display;\n",
       "        if (!display || display === 'none') {{\n",
       "            console.log([gd, 'removed!']);\n",
       "            Plotly.purge(gd);\n",
       "            observer.disconnect();\n",
       "        }}\n",
       "}});\n",
       "\n",
       "// Listen for the removal of the full notebook cells\n",
       "var notebookContainer = gd.closest('#notebook-container');\n",
       "if (notebookContainer) {{\n",
       "    x.observe(notebookContainer, {childList: true});\n",
       "}}\n",
       "\n",
       "// Listen for the clearing of the current output cell\n",
       "var outputEl = gd.closest('.output');\n",
       "if (outputEl) {{\n",
       "    x.observe(outputEl, {childList: true});\n",
       "}}\n",
       "\n",
       "                        })                };                });            </script>        </div>"
      ]
     },
     "metadata": {},
     "output_type": "display_data"
    }
   ],
   "source": [
    "import plotly.graph_objects as go\n",
    "\n",
    "# Assuming `df` is your DataFrame\n",
    "\n",
    "\n",
    "\n",
    "# Creating the figure\n",
    "fig = go.Figure()\n",
    "\n",
    "# Adding a bar for each component for all players\n",
    "for component in ['OTT', 'APP', 'ARG', 'PUTT']:\n",
    "    fig.add_trace(go.Bar(\n",
    "        x=money_10['PLAYER'],\n",
    "        y=money_10[component],\n",
    "        name=component\n",
    "    ))\n",
    "\n",
    "\n",
    "\n",
    "# Adjusting the layout\n",
    "fig.update_layout(\n",
    "    barmode='relative',  # This will stack the components on top of each other, showing negatives below the axis\n",
    "    title='SG Total by Component for Top 10 and Bottom 10 of Money list PGA Tour 2023',\n",
    "    xaxis_title='Player',\n",
    "    yaxis_title='SG Total',\n",
    "    legend_title='SG Components',\n",
    "    xaxis={'categoryorder':'total descending'},  # Ensures bars are ordered based on the sum of their components if needed\n",
    "    shapes=[\n",
    "        # Add a vertical line\n",
    "        {\n",
    "            'type': 'line',\n",
    "            'x0': 9.5,  # Positioning the line between the 10th and 11th bars\n",
    "            'y0': 0,  # Starting y-coordinate of the line (bottom of your chart)\n",
    "            'x1': 9.5,  # Ending x-coordinate, same as x0 since it's a vertical line\n",
    "            'y1': 1,  # Ending y-coordinate of the line (top of your chart). Use a relative value like 1 with yref='paper' to span the whole chart area.\n",
    "            'line': {\n",
    "                'color': 'black',\n",
    "                'width': 2,\n",
    "                'dash': 'dash',  # Style of the line (dashed)\n",
    "            },\n",
    "            'xref': 'x',  # Reference the x-axis for positioning\n",
    "            'yref': 'paper'  # Reference the entire plot area for y-coordinate\n",
    "        }\n",
    "    ]\n",
    "    ,\n",
    "    # Adding annotations for labels\n",
    "    annotations=[\n",
    "        {\n",
    "            'x': 7.5,  # Slightly to the left of the line\n",
    "            'y': 1,\n",
    "            'xref': 'x',\n",
    "            'yref': 'paper',\n",
    "            'text': 'Top 10 highest paid',\n",
    "            'showarrow': False,\n",
    "            'font': {'color': 'green', 'size': 12},\n",
    "            'align': 'right'\n",
    "        },\n",
    "        {\n",
    "            'x': 11.4,  # Slightly to the right of the line\n",
    "            'y': 1,\n",
    "            'xref': 'x',\n",
    "            'yref': 'paper',\n",
    "            'text': 'Top 10 lowest paid',\n",
    "            'showarrow': False,\n",
    "            'font': {'color': 'red', 'size': 12},\n",
    "            'align': 'left'\n",
    "        }\n",
    "    ]\n",
    "\n",
    ")\n",
    "\n",
    "# Show the figure\n",
    "fig.show()"
   ]
  },
  {
   "cell_type": "markdown",
   "id": "040bd7f8",
   "metadata": {},
   "source": [
    "I can see among the top golfers that approach play and off the tee make up the biggest proportion of their strokes gained.\n",
    "Among the lowest players on the money list, there seems to be less of a trend as to which component is most proportionate."
   ]
  },
  {
   "cell_type": "code",
   "execution_count": 109,
   "id": "209a86da",
   "metadata": {},
   "outputs": [
    {
     "data": {
      "application/vnd.plotly.v1+json": {
       "config": {
        "plotlyServerURL": "https://plot.ly"
       },
       "data": [
        {
         "hovertemplate": "Best SG Component=APP<br>TOTAL=%{x}<br>MONEY=%{y}<extra></extra>",
         "legendgroup": "APP",
         "marker": {
          "color": "rgb(228,26,28)",
          "symbol": "circle"
         },
         "mode": "markers",
         "name": "APP",
         "orientation": "v",
         "showlegend": true,
         "type": "scatter",
         "x": [
          2.3129999999999997,
          1.6780000000000002,
          1.2,
          1.868,
          1.425,
          0.9480000000000001,
          1.437,
          0.12499999999999997,
          0.44299999999999995,
          0.8810000000000002,
          0.669,
          1.1219999999999999,
          0.277,
          1.064,
          0.473,
          0.757,
          0.481,
          1.1920000000000002,
          0.818,
          0.8999999999999999,
          0.38400000000000006,
          0.613,
          -0.11200000000000004,
          0.14500000000000002,
          0.822,
          0.6140000000000001,
          0.091,
          0.241,
          -0.199,
          0.3570000000000001,
          0.349,
          0.35000000000000003,
          -0.21000000000000002,
          0.16600000000000004,
          0.385,
          0.454,
          -0.539,
          0.06399999999999997,
          0.014999999999999986,
          -0.068,
          0.17000000000000004,
          -0.12,
          -0.301,
          -0.294,
          -0.53,
          -0.269,
          -0.21299999999999997,
          -0.157,
          -0.877
         ],
         "xaxis": "x",
         "y": [
          21014342,
          16522608,
          10757490,
          8459066,
          7864161,
          7774918,
          7573198,
          6840062,
          6399296,
          6332282,
          6242461,
          5867652,
          5476302,
          5457030,
          5287574,
          4844402,
          4723610,
          4635120,
          4150252,
          3874772,
          3128514,
          2932685,
          2856707,
          2845184,
          2588707,
          2470341,
          2410629,
          2346959,
          2264759,
          2256535,
          2206882,
          1749031,
          1716258,
          1636664,
          1615856,
          1597911,
          1413549,
          1379841,
          1272421,
          1244899,
          1234755,
          994186,
          908929,
          692454,
          539788,
          478670,
          449238,
          362455,
          292639
         ],
         "yaxis": "y"
        },
        {
         "hovertemplate": "Best SG Component=OTT<br>TOTAL=%{x}<br>MONEY=%{y}<extra></extra>",
         "legendgroup": "OTT",
         "marker": {
          "color": "rgb(55,126,184)",
          "symbol": "circle"
         },
         "mode": "markers",
         "name": "OTT",
         "orientation": "v",
         "showlegend": true,
         "type": "scatter",
         "x": [
          1.647,
          2.101,
          1.8679999999999999,
          0.8540000000000001,
          1.048,
          0.918,
          0.6759999999999999,
          0.3469999999999999,
          0.738,
          0.43000000000000005,
          0.6970000000000001,
          1.5070000000000001,
          0.482,
          0.586,
          0.16200000000000003,
          0.491,
          0.022999999999999972,
          0.10700000000000001,
          0.432,
          0.46499999999999997,
          -0.41600000000000004,
          0.15300000000000002,
          0.157,
          -0.186,
          -0.09299999999999999,
          0.19500000000000003,
          0.22100000000000003,
          -0.061000000000000026,
          0.23999999999999994,
          -0.07299999999999998,
          0.29600000000000004,
          0.236,
          -0.353,
          -0.45299999999999996,
          -0.37,
          -0.181,
          -0.931,
          -0.36,
          -0.33499999999999996,
          -0.21100000000000005,
          -0.219,
          -0.21,
          -0.45,
          -0.328,
          -0.09499999999999997,
          -0.29500000000000004,
          -0.32899999999999996,
          -0.406,
          -1.4489999999999998,
          -0.68,
          -1.4140000000000001,
          -0.898,
          -0.652,
          -2.2030000000000003,
          -1.4090000000000003
         ],
         "xaxis": "x",
         "y": [
          14112235,
          13921008,
          10372998,
          6922758,
          6665921,
          5545721,
          5397030,
          5392961,
          5001208,
          3749468,
          3231760,
          3144994,
          3062484,
          3060779,
          3029125,
          3026193,
          2929779,
          2622608,
          2476429,
          2464522,
          2457390,
          2208792,
          2191482,
          1996174,
          1917561,
          1880027,
          1784592,
          1780943,
          1628489,
          1449632,
          1437263,
          1232379,
          1167050,
          1103852,
          1099906,
          1064025,
          1035131,
          1017832,
          957049,
          830919,
          815058,
          640107,
          595132,
          576584,
          574605,
          514634,
          494936,
          489032,
          466212,
          382748,
          372745,
          308365,
          300546,
          265711,
          169449
         ],
         "yaxis": "y"
        },
        {
         "hovertemplate": "Best SG Component=PUTT<br>TOTAL=%{x}<br>MONEY=%{y}<extra></extra>",
         "legendgroup": "PUTT",
         "marker": {
          "color": "rgb(77,175,74)",
          "symbol": "circle"
         },
         "mode": "markers",
         "name": "PUTT",
         "orientation": "v",
         "showlegend": true,
         "type": "scatter",
         "x": [
          1.637,
          0.679,
          0.886,
          1.677,
          0.921,
          0.788,
          0.796,
          1.004,
          1.698,
          0.516,
          0.349,
          0.694,
          0.7090000000000001,
          0.6799999999999999,
          -0.046999999999999986,
          0.6479999999999999,
          0.9259999999999999,
          0.4760000000000001,
          0.119,
          0.5559999999999999,
          0.6839999999999999,
          0.6,
          0.327,
          -0.571,
          -0.123,
          0.21499999999999997,
          0.028000000000000025,
          0.5960000000000001,
          -0.14900000000000002,
          0.14800000000000002,
          -0.017000000000000015,
          0.17600000000000002,
          -0.028000000000000025,
          -0.182,
          0.22699999999999998,
          -0.254,
          -0.10200000000000004,
          -0.14400000000000002,
          -0.42900000000000005,
          -0.427,
          -1.226,
          -1.258,
          -0.7609999999999999,
          -1.1580000000000001,
          -0.015000000000000013,
          -0.7450000000000001,
          -0.955,
          -1.0839999999999999,
          -0.05099999999999999,
          -1.3150000000000002
         ],
         "xaxis": "x",
         "y": [
          10761517,
          9175262,
          9010040,
          8336912,
          8144543,
          7284670,
          7139050,
          6760012,
          6510641,
          5600689,
          5077211,
          4987135,
          4713995,
          4459264,
          3792807,
          3699409,
          3329394,
          3079378,
          3075821,
          2946215,
          2897799,
          2591982,
          2481116,
          2227332,
          1912677,
          1886083,
          1810825,
          1757267,
          1707716,
          1564358,
          1513390,
          1503167,
          1426711,
          1369804,
          1328512,
          1192273,
          884088,
          861981,
          807499,
          722098,
          718748,
          683295,
          617783,
          596227,
          492959,
          468487,
          382836,
          296420,
          281110,
          263815
         ],
         "yaxis": "y"
        },
        {
         "hovertemplate": "Best SG Component=ARG<br>TOTAL=%{x}<br>MONEY=%{y}<extra></extra>",
         "legendgroup": "ARG",
         "marker": {
          "color": "rgb(152,78,163)",
          "symbol": "circle"
         },
         "mode": "markers",
         "name": "ARG",
         "orientation": "v",
         "showlegend": true,
         "type": "scatter",
         "x": [
          0.709,
          0.19999999999999996,
          0.7470000000000001,
          0.566,
          0.45,
          0.835,
          0.345,
          0.8420000000000001,
          0.05099999999999999,
          -0.13,
          -0.28900000000000003,
          -0.07499999999999998,
          -0.05299999999999999,
          -0.9529999999999998,
          0.22199999999999998,
          -0.324,
          -0.23500000000000004,
          0.314,
          -0.38,
          -0.42500000000000004,
          -0.21399999999999997,
          -1.021,
          -0.355,
          -1.043,
          -0.411,
          -0.246,
          -0.757,
          -0.28,
          -0.585,
          -1.099,
          -1.7310000000000003,
          -0.684,
          -0.7410000000000001,
          -1.043,
          -1.0739999999999998,
          -1.9080000000000001
         ],
         "xaxis": "x",
         "y": [
          7240044,
          4318591,
          3935870,
          3840222,
          3586109,
          3566403,
          2883904,
          2478083,
          2469218,
          1791651,
          1758306,
          1743610,
          1451971,
          1433633,
          1337851,
          1302362,
          1258725,
          1173140,
          1161610,
          1158809,
          1111220,
          847328,
          840303,
          755188,
          743246,
          699577,
          647085,
          595760,
          525090,
          509265,
          422905,
          402060,
          322026,
          309436,
          297461,
          263725
         ],
         "yaxis": "y"
        }
       ],
       "layout": {
        "legend": {
         "title": {
          "text": "Best SG Component"
         },
         "tracegroupgap": 0
        },
        "template": {
         "data": {
          "bar": [
           {
            "error_x": {
             "color": "#2a3f5f"
            },
            "error_y": {
             "color": "#2a3f5f"
            },
            "marker": {
             "line": {
              "color": "#E5ECF6",
              "width": 0.5
             },
             "pattern": {
              "fillmode": "overlay",
              "size": 10,
              "solidity": 0.2
             }
            },
            "type": "bar"
           }
          ],
          "barpolar": [
           {
            "marker": {
             "line": {
              "color": "#E5ECF6",
              "width": 0.5
             },
             "pattern": {
              "fillmode": "overlay",
              "size": 10,
              "solidity": 0.2
             }
            },
            "type": "barpolar"
           }
          ],
          "carpet": [
           {
            "aaxis": {
             "endlinecolor": "#2a3f5f",
             "gridcolor": "white",
             "linecolor": "white",
             "minorgridcolor": "white",
             "startlinecolor": "#2a3f5f"
            },
            "baxis": {
             "endlinecolor": "#2a3f5f",
             "gridcolor": "white",
             "linecolor": "white",
             "minorgridcolor": "white",
             "startlinecolor": "#2a3f5f"
            },
            "type": "carpet"
           }
          ],
          "choropleth": [
           {
            "colorbar": {
             "outlinewidth": 0,
             "ticks": ""
            },
            "type": "choropleth"
           }
          ],
          "contour": [
           {
            "colorbar": {
             "outlinewidth": 0,
             "ticks": ""
            },
            "colorscale": [
             [
              0,
              "#0d0887"
             ],
             [
              0.1111111111111111,
              "#46039f"
             ],
             [
              0.2222222222222222,
              "#7201a8"
             ],
             [
              0.3333333333333333,
              "#9c179e"
             ],
             [
              0.4444444444444444,
              "#bd3786"
             ],
             [
              0.5555555555555556,
              "#d8576b"
             ],
             [
              0.6666666666666666,
              "#ed7953"
             ],
             [
              0.7777777777777778,
              "#fb9f3a"
             ],
             [
              0.8888888888888888,
              "#fdca26"
             ],
             [
              1,
              "#f0f921"
             ]
            ],
            "type": "contour"
           }
          ],
          "contourcarpet": [
           {
            "colorbar": {
             "outlinewidth": 0,
             "ticks": ""
            },
            "type": "contourcarpet"
           }
          ],
          "heatmap": [
           {
            "colorbar": {
             "outlinewidth": 0,
             "ticks": ""
            },
            "colorscale": [
             [
              0,
              "#0d0887"
             ],
             [
              0.1111111111111111,
              "#46039f"
             ],
             [
              0.2222222222222222,
              "#7201a8"
             ],
             [
              0.3333333333333333,
              "#9c179e"
             ],
             [
              0.4444444444444444,
              "#bd3786"
             ],
             [
              0.5555555555555556,
              "#d8576b"
             ],
             [
              0.6666666666666666,
              "#ed7953"
             ],
             [
              0.7777777777777778,
              "#fb9f3a"
             ],
             [
              0.8888888888888888,
              "#fdca26"
             ],
             [
              1,
              "#f0f921"
             ]
            ],
            "type": "heatmap"
           }
          ],
          "heatmapgl": [
           {
            "colorbar": {
             "outlinewidth": 0,
             "ticks": ""
            },
            "colorscale": [
             [
              0,
              "#0d0887"
             ],
             [
              0.1111111111111111,
              "#46039f"
             ],
             [
              0.2222222222222222,
              "#7201a8"
             ],
             [
              0.3333333333333333,
              "#9c179e"
             ],
             [
              0.4444444444444444,
              "#bd3786"
             ],
             [
              0.5555555555555556,
              "#d8576b"
             ],
             [
              0.6666666666666666,
              "#ed7953"
             ],
             [
              0.7777777777777778,
              "#fb9f3a"
             ],
             [
              0.8888888888888888,
              "#fdca26"
             ],
             [
              1,
              "#f0f921"
             ]
            ],
            "type": "heatmapgl"
           }
          ],
          "histogram": [
           {
            "marker": {
             "pattern": {
              "fillmode": "overlay",
              "size": 10,
              "solidity": 0.2
             }
            },
            "type": "histogram"
           }
          ],
          "histogram2d": [
           {
            "colorbar": {
             "outlinewidth": 0,
             "ticks": ""
            },
            "colorscale": [
             [
              0,
              "#0d0887"
             ],
             [
              0.1111111111111111,
              "#46039f"
             ],
             [
              0.2222222222222222,
              "#7201a8"
             ],
             [
              0.3333333333333333,
              "#9c179e"
             ],
             [
              0.4444444444444444,
              "#bd3786"
             ],
             [
              0.5555555555555556,
              "#d8576b"
             ],
             [
              0.6666666666666666,
              "#ed7953"
             ],
             [
              0.7777777777777778,
              "#fb9f3a"
             ],
             [
              0.8888888888888888,
              "#fdca26"
             ],
             [
              1,
              "#f0f921"
             ]
            ],
            "type": "histogram2d"
           }
          ],
          "histogram2dcontour": [
           {
            "colorbar": {
             "outlinewidth": 0,
             "ticks": ""
            },
            "colorscale": [
             [
              0,
              "#0d0887"
             ],
             [
              0.1111111111111111,
              "#46039f"
             ],
             [
              0.2222222222222222,
              "#7201a8"
             ],
             [
              0.3333333333333333,
              "#9c179e"
             ],
             [
              0.4444444444444444,
              "#bd3786"
             ],
             [
              0.5555555555555556,
              "#d8576b"
             ],
             [
              0.6666666666666666,
              "#ed7953"
             ],
             [
              0.7777777777777778,
              "#fb9f3a"
             ],
             [
              0.8888888888888888,
              "#fdca26"
             ],
             [
              1,
              "#f0f921"
             ]
            ],
            "type": "histogram2dcontour"
           }
          ],
          "mesh3d": [
           {
            "colorbar": {
             "outlinewidth": 0,
             "ticks": ""
            },
            "type": "mesh3d"
           }
          ],
          "parcoords": [
           {
            "line": {
             "colorbar": {
              "outlinewidth": 0,
              "ticks": ""
             }
            },
            "type": "parcoords"
           }
          ],
          "pie": [
           {
            "automargin": true,
            "type": "pie"
           }
          ],
          "scatter": [
           {
            "fillpattern": {
             "fillmode": "overlay",
             "size": 10,
             "solidity": 0.2
            },
            "type": "scatter"
           }
          ],
          "scatter3d": [
           {
            "line": {
             "colorbar": {
              "outlinewidth": 0,
              "ticks": ""
             }
            },
            "marker": {
             "colorbar": {
              "outlinewidth": 0,
              "ticks": ""
             }
            },
            "type": "scatter3d"
           }
          ],
          "scattercarpet": [
           {
            "marker": {
             "colorbar": {
              "outlinewidth": 0,
              "ticks": ""
             }
            },
            "type": "scattercarpet"
           }
          ],
          "scattergeo": [
           {
            "marker": {
             "colorbar": {
              "outlinewidth": 0,
              "ticks": ""
             }
            },
            "type": "scattergeo"
           }
          ],
          "scattergl": [
           {
            "marker": {
             "colorbar": {
              "outlinewidth": 0,
              "ticks": ""
             }
            },
            "type": "scattergl"
           }
          ],
          "scattermapbox": [
           {
            "marker": {
             "colorbar": {
              "outlinewidth": 0,
              "ticks": ""
             }
            },
            "type": "scattermapbox"
           }
          ],
          "scatterpolar": [
           {
            "marker": {
             "colorbar": {
              "outlinewidth": 0,
              "ticks": ""
             }
            },
            "type": "scatterpolar"
           }
          ],
          "scatterpolargl": [
           {
            "marker": {
             "colorbar": {
              "outlinewidth": 0,
              "ticks": ""
             }
            },
            "type": "scatterpolargl"
           }
          ],
          "scatterternary": [
           {
            "marker": {
             "colorbar": {
              "outlinewidth": 0,
              "ticks": ""
             }
            },
            "type": "scatterternary"
           }
          ],
          "surface": [
           {
            "colorbar": {
             "outlinewidth": 0,
             "ticks": ""
            },
            "colorscale": [
             [
              0,
              "#0d0887"
             ],
             [
              0.1111111111111111,
              "#46039f"
             ],
             [
              0.2222222222222222,
              "#7201a8"
             ],
             [
              0.3333333333333333,
              "#9c179e"
             ],
             [
              0.4444444444444444,
              "#bd3786"
             ],
             [
              0.5555555555555556,
              "#d8576b"
             ],
             [
              0.6666666666666666,
              "#ed7953"
             ],
             [
              0.7777777777777778,
              "#fb9f3a"
             ],
             [
              0.8888888888888888,
              "#fdca26"
             ],
             [
              1,
              "#f0f921"
             ]
            ],
            "type": "surface"
           }
          ],
          "table": [
           {
            "cells": {
             "fill": {
              "color": "#EBF0F8"
             },
             "line": {
              "color": "white"
             }
            },
            "header": {
             "fill": {
              "color": "#C8D4E3"
             },
             "line": {
              "color": "white"
             }
            },
            "type": "table"
           }
          ]
         },
         "layout": {
          "annotationdefaults": {
           "arrowcolor": "#2a3f5f",
           "arrowhead": 0,
           "arrowwidth": 1
          },
          "autotypenumbers": "strict",
          "coloraxis": {
           "colorbar": {
            "outlinewidth": 0,
            "ticks": ""
           }
          },
          "colorscale": {
           "diverging": [
            [
             0,
             "#8e0152"
            ],
            [
             0.1,
             "#c51b7d"
            ],
            [
             0.2,
             "#de77ae"
            ],
            [
             0.3,
             "#f1b6da"
            ],
            [
             0.4,
             "#fde0ef"
            ],
            [
             0.5,
             "#f7f7f7"
            ],
            [
             0.6,
             "#e6f5d0"
            ],
            [
             0.7,
             "#b8e186"
            ],
            [
             0.8,
             "#7fbc41"
            ],
            [
             0.9,
             "#4d9221"
            ],
            [
             1,
             "#276419"
            ]
           ],
           "sequential": [
            [
             0,
             "#0d0887"
            ],
            [
             0.1111111111111111,
             "#46039f"
            ],
            [
             0.2222222222222222,
             "#7201a8"
            ],
            [
             0.3333333333333333,
             "#9c179e"
            ],
            [
             0.4444444444444444,
             "#bd3786"
            ],
            [
             0.5555555555555556,
             "#d8576b"
            ],
            [
             0.6666666666666666,
             "#ed7953"
            ],
            [
             0.7777777777777778,
             "#fb9f3a"
            ],
            [
             0.8888888888888888,
             "#fdca26"
            ],
            [
             1,
             "#f0f921"
            ]
           ],
           "sequentialminus": [
            [
             0,
             "#0d0887"
            ],
            [
             0.1111111111111111,
             "#46039f"
            ],
            [
             0.2222222222222222,
             "#7201a8"
            ],
            [
             0.3333333333333333,
             "#9c179e"
            ],
            [
             0.4444444444444444,
             "#bd3786"
            ],
            [
             0.5555555555555556,
             "#d8576b"
            ],
            [
             0.6666666666666666,
             "#ed7953"
            ],
            [
             0.7777777777777778,
             "#fb9f3a"
            ],
            [
             0.8888888888888888,
             "#fdca26"
            ],
            [
             1,
             "#f0f921"
            ]
           ]
          },
          "colorway": [
           "#636efa",
           "#EF553B",
           "#00cc96",
           "#ab63fa",
           "#FFA15A",
           "#19d3f3",
           "#FF6692",
           "#B6E880",
           "#FF97FF",
           "#FECB52"
          ],
          "font": {
           "color": "#2a3f5f"
          },
          "geo": {
           "bgcolor": "white",
           "lakecolor": "white",
           "landcolor": "#E5ECF6",
           "showlakes": true,
           "showland": true,
           "subunitcolor": "white"
          },
          "hoverlabel": {
           "align": "left"
          },
          "hovermode": "closest",
          "mapbox": {
           "style": "light"
          },
          "paper_bgcolor": "white",
          "plot_bgcolor": "#E5ECF6",
          "polar": {
           "angularaxis": {
            "gridcolor": "white",
            "linecolor": "white",
            "ticks": ""
           },
           "bgcolor": "#E5ECF6",
           "radialaxis": {
            "gridcolor": "white",
            "linecolor": "white",
            "ticks": ""
           }
          },
          "scene": {
           "xaxis": {
            "backgroundcolor": "#E5ECF6",
            "gridcolor": "white",
            "gridwidth": 2,
            "linecolor": "white",
            "showbackground": true,
            "ticks": "",
            "zerolinecolor": "white"
           },
           "yaxis": {
            "backgroundcolor": "#E5ECF6",
            "gridcolor": "white",
            "gridwidth": 2,
            "linecolor": "white",
            "showbackground": true,
            "ticks": "",
            "zerolinecolor": "white"
           },
           "zaxis": {
            "backgroundcolor": "#E5ECF6",
            "gridcolor": "white",
            "gridwidth": 2,
            "linecolor": "white",
            "showbackground": true,
            "ticks": "",
            "zerolinecolor": "white"
           }
          },
          "shapedefaults": {
           "line": {
            "color": "#2a3f5f"
           }
          },
          "ternary": {
           "aaxis": {
            "gridcolor": "white",
            "linecolor": "white",
            "ticks": ""
           },
           "baxis": {
            "gridcolor": "white",
            "linecolor": "white",
            "ticks": ""
           },
           "bgcolor": "#E5ECF6",
           "caxis": {
            "gridcolor": "white",
            "linecolor": "white",
            "ticks": ""
           }
          },
          "title": {
           "x": 0.05
          },
          "xaxis": {
           "automargin": true,
           "gridcolor": "white",
           "linecolor": "white",
           "ticks": "",
           "title": {
            "standoff": 15
           },
           "zerolinecolor": "white",
           "zerolinewidth": 2
          },
          "yaxis": {
           "automargin": true,
           "gridcolor": "white",
           "linecolor": "white",
           "ticks": "",
           "title": {
            "standoff": 15
           },
           "zerolinecolor": "white",
           "zerolinewidth": 2
          }
         }
        },
        "title": {
         "text": "SG Total vs Money, Coloured by Best SG Component"
        },
        "xaxis": {
         "anchor": "y",
         "domain": [
          0,
          1
         ],
         "title": {
          "text": "Strokes Gained Total"
         }
        },
        "yaxis": {
         "anchor": "x",
         "domain": [
          0,
          1
         ],
         "title": {
          "text": "MONEY"
         }
        }
       }
      },
      "text/html": [
       "<div>                            <div id=\"2c9f1aa5-b7c0-4c44-8374-6bee8f537aff\" class=\"plotly-graph-div\" style=\"height:525px; width:100%;\"></div>            <script type=\"text/javascript\">                require([\"plotly\"], function(Plotly) {                    window.PLOTLYENV=window.PLOTLYENV || {};                                    if (document.getElementById(\"2c9f1aa5-b7c0-4c44-8374-6bee8f537aff\")) {                    Plotly.newPlot(                        \"2c9f1aa5-b7c0-4c44-8374-6bee8f537aff\",                        [{\"hovertemplate\":\"Best SG Component=APP<br>TOTAL=%{x}<br>MONEY=%{y}<extra></extra>\",\"legendgroup\":\"APP\",\"marker\":{\"color\":\"rgb(228,26,28)\",\"symbol\":\"circle\"},\"mode\":\"markers\",\"name\":\"APP\",\"orientation\":\"v\",\"showlegend\":true,\"x\":[2.3129999999999997,1.6780000000000002,1.2,1.868,1.425,0.9480000000000001,1.437,0.12499999999999997,0.44299999999999995,0.8810000000000002,0.669,1.1219999999999999,0.277,1.064,0.473,0.757,0.481,1.1920000000000002,0.818,0.8999999999999999,0.38400000000000006,0.613,-0.11200000000000004,0.14500000000000002,0.822,0.6140000000000001,0.091,0.241,-0.199,0.3570000000000001,0.349,0.35000000000000003,-0.21000000000000002,0.16600000000000004,0.385,0.454,-0.539,0.06399999999999997,0.014999999999999986,-0.068,0.17000000000000004,-0.12,-0.301,-0.294,-0.53,-0.269,-0.21299999999999997,-0.157,-0.877],\"xaxis\":\"x\",\"y\":[21014342,16522608,10757490,8459066,7864161,7774918,7573198,6840062,6399296,6332282,6242461,5867652,5476302,5457030,5287574,4844402,4723610,4635120,4150252,3874772,3128514,2932685,2856707,2845184,2588707,2470341,2410629,2346959,2264759,2256535,2206882,1749031,1716258,1636664,1615856,1597911,1413549,1379841,1272421,1244899,1234755,994186,908929,692454,539788,478670,449238,362455,292639],\"yaxis\":\"y\",\"type\":\"scatter\"},{\"hovertemplate\":\"Best SG Component=OTT<br>TOTAL=%{x}<br>MONEY=%{y}<extra></extra>\",\"legendgroup\":\"OTT\",\"marker\":{\"color\":\"rgb(55,126,184)\",\"symbol\":\"circle\"},\"mode\":\"markers\",\"name\":\"OTT\",\"orientation\":\"v\",\"showlegend\":true,\"x\":[1.647,2.101,1.8679999999999999,0.8540000000000001,1.048,0.918,0.6759999999999999,0.3469999999999999,0.738,0.43000000000000005,0.6970000000000001,1.5070000000000001,0.482,0.586,0.16200000000000003,0.491,0.022999999999999972,0.10700000000000001,0.432,0.46499999999999997,-0.41600000000000004,0.15300000000000002,0.157,-0.186,-0.09299999999999999,0.19500000000000003,0.22100000000000003,-0.061000000000000026,0.23999999999999994,-0.07299999999999998,0.29600000000000004,0.236,-0.353,-0.45299999999999996,-0.37,-0.181,-0.931,-0.36,-0.33499999999999996,-0.21100000000000005,-0.219,-0.21,-0.45,-0.328,-0.09499999999999997,-0.29500000000000004,-0.32899999999999996,-0.406,-1.4489999999999998,-0.68,-1.4140000000000001,-0.898,-0.652,-2.2030000000000003,-1.4090000000000003],\"xaxis\":\"x\",\"y\":[14112235,13921008,10372998,6922758,6665921,5545721,5397030,5392961,5001208,3749468,3231760,3144994,3062484,3060779,3029125,3026193,2929779,2622608,2476429,2464522,2457390,2208792,2191482,1996174,1917561,1880027,1784592,1780943,1628489,1449632,1437263,1232379,1167050,1103852,1099906,1064025,1035131,1017832,957049,830919,815058,640107,595132,576584,574605,514634,494936,489032,466212,382748,372745,308365,300546,265711,169449],\"yaxis\":\"y\",\"type\":\"scatter\"},{\"hovertemplate\":\"Best SG Component=PUTT<br>TOTAL=%{x}<br>MONEY=%{y}<extra></extra>\",\"legendgroup\":\"PUTT\",\"marker\":{\"color\":\"rgb(77,175,74)\",\"symbol\":\"circle\"},\"mode\":\"markers\",\"name\":\"PUTT\",\"orientation\":\"v\",\"showlegend\":true,\"x\":[1.637,0.679,0.886,1.677,0.921,0.788,0.796,1.004,1.698,0.516,0.349,0.694,0.7090000000000001,0.6799999999999999,-0.046999999999999986,0.6479999999999999,0.9259999999999999,0.4760000000000001,0.119,0.5559999999999999,0.6839999999999999,0.6,0.327,-0.571,-0.123,0.21499999999999997,0.028000000000000025,0.5960000000000001,-0.14900000000000002,0.14800000000000002,-0.017000000000000015,0.17600000000000002,-0.028000000000000025,-0.182,0.22699999999999998,-0.254,-0.10200000000000004,-0.14400000000000002,-0.42900000000000005,-0.427,-1.226,-1.258,-0.7609999999999999,-1.1580000000000001,-0.015000000000000013,-0.7450000000000001,-0.955,-1.0839999999999999,-0.05099999999999999,-1.3150000000000002],\"xaxis\":\"x\",\"y\":[10761517,9175262,9010040,8336912,8144543,7284670,7139050,6760012,6510641,5600689,5077211,4987135,4713995,4459264,3792807,3699409,3329394,3079378,3075821,2946215,2897799,2591982,2481116,2227332,1912677,1886083,1810825,1757267,1707716,1564358,1513390,1503167,1426711,1369804,1328512,1192273,884088,861981,807499,722098,718748,683295,617783,596227,492959,468487,382836,296420,281110,263815],\"yaxis\":\"y\",\"type\":\"scatter\"},{\"hovertemplate\":\"Best SG Component=ARG<br>TOTAL=%{x}<br>MONEY=%{y}<extra></extra>\",\"legendgroup\":\"ARG\",\"marker\":{\"color\":\"rgb(152,78,163)\",\"symbol\":\"circle\"},\"mode\":\"markers\",\"name\":\"ARG\",\"orientation\":\"v\",\"showlegend\":true,\"x\":[0.709,0.19999999999999996,0.7470000000000001,0.566,0.45,0.835,0.345,0.8420000000000001,0.05099999999999999,-0.13,-0.28900000000000003,-0.07499999999999998,-0.05299999999999999,-0.9529999999999998,0.22199999999999998,-0.324,-0.23500000000000004,0.314,-0.38,-0.42500000000000004,-0.21399999999999997,-1.021,-0.355,-1.043,-0.411,-0.246,-0.757,-0.28,-0.585,-1.099,-1.7310000000000003,-0.684,-0.7410000000000001,-1.043,-1.0739999999999998,-1.9080000000000001],\"xaxis\":\"x\",\"y\":[7240044,4318591,3935870,3840222,3586109,3566403,2883904,2478083,2469218,1791651,1758306,1743610,1451971,1433633,1337851,1302362,1258725,1173140,1161610,1158809,1111220,847328,840303,755188,743246,699577,647085,595760,525090,509265,422905,402060,322026,309436,297461,263725],\"yaxis\":\"y\",\"type\":\"scatter\"}],                        {\"template\":{\"data\":{\"histogram2dcontour\":[{\"type\":\"histogram2dcontour\",\"colorbar\":{\"outlinewidth\":0,\"ticks\":\"\"},\"colorscale\":[[0.0,\"#0d0887\"],[0.1111111111111111,\"#46039f\"],[0.2222222222222222,\"#7201a8\"],[0.3333333333333333,\"#9c179e\"],[0.4444444444444444,\"#bd3786\"],[0.5555555555555556,\"#d8576b\"],[0.6666666666666666,\"#ed7953\"],[0.7777777777777778,\"#fb9f3a\"],[0.8888888888888888,\"#fdca26\"],[1.0,\"#f0f921\"]]}],\"choropleth\":[{\"type\":\"choropleth\",\"colorbar\":{\"outlinewidth\":0,\"ticks\":\"\"}}],\"histogram2d\":[{\"type\":\"histogram2d\",\"colorbar\":{\"outlinewidth\":0,\"ticks\":\"\"},\"colorscale\":[[0.0,\"#0d0887\"],[0.1111111111111111,\"#46039f\"],[0.2222222222222222,\"#7201a8\"],[0.3333333333333333,\"#9c179e\"],[0.4444444444444444,\"#bd3786\"],[0.5555555555555556,\"#d8576b\"],[0.6666666666666666,\"#ed7953\"],[0.7777777777777778,\"#fb9f3a\"],[0.8888888888888888,\"#fdca26\"],[1.0,\"#f0f921\"]]}],\"heatmap\":[{\"type\":\"heatmap\",\"colorbar\":{\"outlinewidth\":0,\"ticks\":\"\"},\"colorscale\":[[0.0,\"#0d0887\"],[0.1111111111111111,\"#46039f\"],[0.2222222222222222,\"#7201a8\"],[0.3333333333333333,\"#9c179e\"],[0.4444444444444444,\"#bd3786\"],[0.5555555555555556,\"#d8576b\"],[0.6666666666666666,\"#ed7953\"],[0.7777777777777778,\"#fb9f3a\"],[0.8888888888888888,\"#fdca26\"],[1.0,\"#f0f921\"]]}],\"heatmapgl\":[{\"type\":\"heatmapgl\",\"colorbar\":{\"outlinewidth\":0,\"ticks\":\"\"},\"colorscale\":[[0.0,\"#0d0887\"],[0.1111111111111111,\"#46039f\"],[0.2222222222222222,\"#7201a8\"],[0.3333333333333333,\"#9c179e\"],[0.4444444444444444,\"#bd3786\"],[0.5555555555555556,\"#d8576b\"],[0.6666666666666666,\"#ed7953\"],[0.7777777777777778,\"#fb9f3a\"],[0.8888888888888888,\"#fdca26\"],[1.0,\"#f0f921\"]]}],\"contourcarpet\":[{\"type\":\"contourcarpet\",\"colorbar\":{\"outlinewidth\":0,\"ticks\":\"\"}}],\"contour\":[{\"type\":\"contour\",\"colorbar\":{\"outlinewidth\":0,\"ticks\":\"\"},\"colorscale\":[[0.0,\"#0d0887\"],[0.1111111111111111,\"#46039f\"],[0.2222222222222222,\"#7201a8\"],[0.3333333333333333,\"#9c179e\"],[0.4444444444444444,\"#bd3786\"],[0.5555555555555556,\"#d8576b\"],[0.6666666666666666,\"#ed7953\"],[0.7777777777777778,\"#fb9f3a\"],[0.8888888888888888,\"#fdca26\"],[1.0,\"#f0f921\"]]}],\"surface\":[{\"type\":\"surface\",\"colorbar\":{\"outlinewidth\":0,\"ticks\":\"\"},\"colorscale\":[[0.0,\"#0d0887\"],[0.1111111111111111,\"#46039f\"],[0.2222222222222222,\"#7201a8\"],[0.3333333333333333,\"#9c179e\"],[0.4444444444444444,\"#bd3786\"],[0.5555555555555556,\"#d8576b\"],[0.6666666666666666,\"#ed7953\"],[0.7777777777777778,\"#fb9f3a\"],[0.8888888888888888,\"#fdca26\"],[1.0,\"#f0f921\"]]}],\"mesh3d\":[{\"type\":\"mesh3d\",\"colorbar\":{\"outlinewidth\":0,\"ticks\":\"\"}}],\"scatter\":[{\"fillpattern\":{\"fillmode\":\"overlay\",\"size\":10,\"solidity\":0.2},\"type\":\"scatter\"}],\"parcoords\":[{\"type\":\"parcoords\",\"line\":{\"colorbar\":{\"outlinewidth\":0,\"ticks\":\"\"}}}],\"scatterpolargl\":[{\"type\":\"scatterpolargl\",\"marker\":{\"colorbar\":{\"outlinewidth\":0,\"ticks\":\"\"}}}],\"bar\":[{\"error_x\":{\"color\":\"#2a3f5f\"},\"error_y\":{\"color\":\"#2a3f5f\"},\"marker\":{\"line\":{\"color\":\"#E5ECF6\",\"width\":0.5},\"pattern\":{\"fillmode\":\"overlay\",\"size\":10,\"solidity\":0.2}},\"type\":\"bar\"}],\"scattergeo\":[{\"type\":\"scattergeo\",\"marker\":{\"colorbar\":{\"outlinewidth\":0,\"ticks\":\"\"}}}],\"scatterpolar\":[{\"type\":\"scatterpolar\",\"marker\":{\"colorbar\":{\"outlinewidth\":0,\"ticks\":\"\"}}}],\"histogram\":[{\"marker\":{\"pattern\":{\"fillmode\":\"overlay\",\"size\":10,\"solidity\":0.2}},\"type\":\"histogram\"}],\"scattergl\":[{\"type\":\"scattergl\",\"marker\":{\"colorbar\":{\"outlinewidth\":0,\"ticks\":\"\"}}}],\"scatter3d\":[{\"type\":\"scatter3d\",\"line\":{\"colorbar\":{\"outlinewidth\":0,\"ticks\":\"\"}},\"marker\":{\"colorbar\":{\"outlinewidth\":0,\"ticks\":\"\"}}}],\"scattermapbox\":[{\"type\":\"scattermapbox\",\"marker\":{\"colorbar\":{\"outlinewidth\":0,\"ticks\":\"\"}}}],\"scatterternary\":[{\"type\":\"scatterternary\",\"marker\":{\"colorbar\":{\"outlinewidth\":0,\"ticks\":\"\"}}}],\"scattercarpet\":[{\"type\":\"scattercarpet\",\"marker\":{\"colorbar\":{\"outlinewidth\":0,\"ticks\":\"\"}}}],\"carpet\":[{\"aaxis\":{\"endlinecolor\":\"#2a3f5f\",\"gridcolor\":\"white\",\"linecolor\":\"white\",\"minorgridcolor\":\"white\",\"startlinecolor\":\"#2a3f5f\"},\"baxis\":{\"endlinecolor\":\"#2a3f5f\",\"gridcolor\":\"white\",\"linecolor\":\"white\",\"minorgridcolor\":\"white\",\"startlinecolor\":\"#2a3f5f\"},\"type\":\"carpet\"}],\"table\":[{\"cells\":{\"fill\":{\"color\":\"#EBF0F8\"},\"line\":{\"color\":\"white\"}},\"header\":{\"fill\":{\"color\":\"#C8D4E3\"},\"line\":{\"color\":\"white\"}},\"type\":\"table\"}],\"barpolar\":[{\"marker\":{\"line\":{\"color\":\"#E5ECF6\",\"width\":0.5},\"pattern\":{\"fillmode\":\"overlay\",\"size\":10,\"solidity\":0.2}},\"type\":\"barpolar\"}],\"pie\":[{\"automargin\":true,\"type\":\"pie\"}]},\"layout\":{\"autotypenumbers\":\"strict\",\"colorway\":[\"#636efa\",\"#EF553B\",\"#00cc96\",\"#ab63fa\",\"#FFA15A\",\"#19d3f3\",\"#FF6692\",\"#B6E880\",\"#FF97FF\",\"#FECB52\"],\"font\":{\"color\":\"#2a3f5f\"},\"hovermode\":\"closest\",\"hoverlabel\":{\"align\":\"left\"},\"paper_bgcolor\":\"white\",\"plot_bgcolor\":\"#E5ECF6\",\"polar\":{\"bgcolor\":\"#E5ECF6\",\"angularaxis\":{\"gridcolor\":\"white\",\"linecolor\":\"white\",\"ticks\":\"\"},\"radialaxis\":{\"gridcolor\":\"white\",\"linecolor\":\"white\",\"ticks\":\"\"}},\"ternary\":{\"bgcolor\":\"#E5ECF6\",\"aaxis\":{\"gridcolor\":\"white\",\"linecolor\":\"white\",\"ticks\":\"\"},\"baxis\":{\"gridcolor\":\"white\",\"linecolor\":\"white\",\"ticks\":\"\"},\"caxis\":{\"gridcolor\":\"white\",\"linecolor\":\"white\",\"ticks\":\"\"}},\"coloraxis\":{\"colorbar\":{\"outlinewidth\":0,\"ticks\":\"\"}},\"colorscale\":{\"sequential\":[[0.0,\"#0d0887\"],[0.1111111111111111,\"#46039f\"],[0.2222222222222222,\"#7201a8\"],[0.3333333333333333,\"#9c179e\"],[0.4444444444444444,\"#bd3786\"],[0.5555555555555556,\"#d8576b\"],[0.6666666666666666,\"#ed7953\"],[0.7777777777777778,\"#fb9f3a\"],[0.8888888888888888,\"#fdca26\"],[1.0,\"#f0f921\"]],\"sequentialminus\":[[0.0,\"#0d0887\"],[0.1111111111111111,\"#46039f\"],[0.2222222222222222,\"#7201a8\"],[0.3333333333333333,\"#9c179e\"],[0.4444444444444444,\"#bd3786\"],[0.5555555555555556,\"#d8576b\"],[0.6666666666666666,\"#ed7953\"],[0.7777777777777778,\"#fb9f3a\"],[0.8888888888888888,\"#fdca26\"],[1.0,\"#f0f921\"]],\"diverging\":[[0,\"#8e0152\"],[0.1,\"#c51b7d\"],[0.2,\"#de77ae\"],[0.3,\"#f1b6da\"],[0.4,\"#fde0ef\"],[0.5,\"#f7f7f7\"],[0.6,\"#e6f5d0\"],[0.7,\"#b8e186\"],[0.8,\"#7fbc41\"],[0.9,\"#4d9221\"],[1,\"#276419\"]]},\"xaxis\":{\"gridcolor\":\"white\",\"linecolor\":\"white\",\"ticks\":\"\",\"title\":{\"standoff\":15},\"zerolinecolor\":\"white\",\"automargin\":true,\"zerolinewidth\":2},\"yaxis\":{\"gridcolor\":\"white\",\"linecolor\":\"white\",\"ticks\":\"\",\"title\":{\"standoff\":15},\"zerolinecolor\":\"white\",\"automargin\":true,\"zerolinewidth\":2},\"scene\":{\"xaxis\":{\"backgroundcolor\":\"#E5ECF6\",\"gridcolor\":\"white\",\"linecolor\":\"white\",\"showbackground\":true,\"ticks\":\"\",\"zerolinecolor\":\"white\",\"gridwidth\":2},\"yaxis\":{\"backgroundcolor\":\"#E5ECF6\",\"gridcolor\":\"white\",\"linecolor\":\"white\",\"showbackground\":true,\"ticks\":\"\",\"zerolinecolor\":\"white\",\"gridwidth\":2},\"zaxis\":{\"backgroundcolor\":\"#E5ECF6\",\"gridcolor\":\"white\",\"linecolor\":\"white\",\"showbackground\":true,\"ticks\":\"\",\"zerolinecolor\":\"white\",\"gridwidth\":2}},\"shapedefaults\":{\"line\":{\"color\":\"#2a3f5f\"}},\"annotationdefaults\":{\"arrowcolor\":\"#2a3f5f\",\"arrowhead\":0,\"arrowwidth\":1},\"geo\":{\"bgcolor\":\"white\",\"landcolor\":\"#E5ECF6\",\"subunitcolor\":\"white\",\"showland\":true,\"showlakes\":true,\"lakecolor\":\"white\"},\"title\":{\"x\":0.05},\"mapbox\":{\"style\":\"light\"}}},\"xaxis\":{\"anchor\":\"y\",\"domain\":[0.0,1.0],\"title\":{\"text\":\"Strokes Gained Total\"}},\"yaxis\":{\"anchor\":\"x\",\"domain\":[0.0,1.0],\"title\":{\"text\":\"MONEY\"}},\"legend\":{\"title\":{\"text\":\"Best SG Component\"},\"tracegroupgap\":0},\"title\":{\"text\":\"SG Total vs Money, Coloured by Best SG Component\"}},                        {\"responsive\": true}                    ).then(function(){\n",
       "                            \n",
       "var gd = document.getElementById('2c9f1aa5-b7c0-4c44-8374-6bee8f537aff');\n",
       "var x = new MutationObserver(function (mutations, observer) {{\n",
       "        var display = window.getComputedStyle(gd).display;\n",
       "        if (!display || display === 'none') {{\n",
       "            console.log([gd, 'removed!']);\n",
       "            Plotly.purge(gd);\n",
       "            observer.disconnect();\n",
       "        }}\n",
       "}});\n",
       "\n",
       "// Listen for the removal of the full notebook cells\n",
       "var notebookContainer = gd.closest('#notebook-container');\n",
       "if (notebookContainer) {{\n",
       "    x.observe(notebookContainer, {childList: true});\n",
       "}}\n",
       "\n",
       "// Listen for the clearing of the current output cell\n",
       "var outputEl = gd.closest('.output');\n",
       "if (outputEl) {{\n",
       "    x.observe(outputEl, {childList: true});\n",
       "}}\n",
       "\n",
       "                        })                };                });            </script>        </div>"
      ]
     },
     "metadata": {},
     "output_type": "display_data"
    }
   ],
   "source": [
    "#Plot of SG OTT vs Money with colour represtning best SG area\n",
    "\n",
    "\n",
    "sg_components = ['OTT', 'APP', 'ARG', 'PUTT']\n",
    "sg_df['Best SG Component'] = sg_df[sg_components].idxmax(axis=1)\n",
    "sg_df\n",
    "\n",
    "fig = px.scatter(sg_df, x=\"TOTAL\", y=\"MONEY\", color=\"Best SG Component\",\n",
    "                 color_discrete_sequence=px.colors.qualitative.Set1, # Optional: Use a specific color sequence\n",
    "                 title=\"SG Total vs Money, Coloured by Best SG Component\")\n",
    "fig.update_xaxes(title_text=\"Strokes Gained Total\")\n",
    "\n",
    "# Show the figure\n",
    "fig.show()"
   ]
  },
  {
   "cell_type": "markdown",
   "id": "05a0a975",
   "metadata": {},
   "source": [
    "Add, linear regression model to each component to see if there is a strong corellation between SG in that area and money"
   ]
  }
 ],
 "metadata": {
  "kernelspec": {
   "display_name": "Python 3 (ipykernel)",
   "language": "python",
   "name": "python3"
  },
  "language_info": {
   "codemirror_mode": {
    "name": "ipython",
    "version": 3
   },
   "file_extension": ".py",
   "mimetype": "text/x-python",
   "name": "python",
   "nbconvert_exporter": "python",
   "pygments_lexer": "ipython3",
   "version": "3.11.5"
  }
 },
 "nbformat": 4,
 "nbformat_minor": 5
}
